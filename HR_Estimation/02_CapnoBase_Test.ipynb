{
 "cells": [
  {
   "cell_type": "code",
   "execution_count": 1,
   "id": "57d8de12-1c33-486f-ac45-2ebc9a8b274d",
   "metadata": {},
   "outputs": [],
   "source": [
    "import warnings\n",
    "warnings.filterwarnings('ignore')\n",
    "\n",
    "import glob\n",
    "import numpy as np\n",
    "import torch\n",
    "import matplotlib.pyplot as plt\n",
    "import pandas as pd\n",
    "import sklearn.preprocessing as skp\n",
    "\n",
    "from gan_models import GeneratorResNet\n",
    "from scipy.interpolate import splrep, splev\n",
    "from biosppy.signals import tools as tools\n",
    "from tqdm import tqdm\n",
    "\n",
    "import heartpy as hp\n",
    "from sklearn.metrics import mean_absolute_error\n",
    "import neurokit2 as nk"
   ]
  },
  {
   "cell_type": "markdown",
   "id": "204b2570-bfb8-4741-bb92-7d0df2b7aed9",
   "metadata": {},
   "source": [
    "- Define Device"
   ]
  },
  {
   "cell_type": "code",
   "execution_count": 3,
   "id": "6b907d81-f51c-488a-a4a4-0e2b74141745",
   "metadata": {},
   "outputs": [
    {
     "name": "stdout",
     "output_type": "stream",
     "text": [
      "Using Pytorch Versions: 2.1.1+cu118  Device: cuda\n"
     ]
    }
   ],
   "source": [
    "if torch.cuda.is_available():\n",
    "    DEVICE = torch.device('cuda')\n",
    "else:\n",
    "    DEVICE = torch.device('cpu')\n",
    "\n",
    "print(\"Using Pytorch Versions:\", torch.__version__, ' Device:', DEVICE)"
   ]
  },
  {
   "cell_type": "markdown",
   "id": "45b9cb3d-a569-4f35-a00f-84216b4b6f8c",
   "metadata": {},
   "source": [
    "- 필요 함수"
   ]
  },
  {
   "cell_type": "code",
   "execution_count": 4,
   "id": "4dbd5c34-c7ab-45a3-a5da-a1798f27b205",
   "metadata": {},
   "outputs": [],
   "source": [
    "def interp_spline(ecg, step=1, k=3):\n",
    "\n",
    "    x_new = np.arange(0, ecg.shape[0], ecg.shape[0]/step)\n",
    "    interp_spline_method = splrep(np.arange(0, ecg.shape[0], 1), ecg, k=k)\n",
    "    return splev(x_new, interp_spline_method)"
   ]
  },
  {
   "cell_type": "code",
   "execution_count": 5,
   "id": "6a84291b-fcde-4b58-990f-b342dea80277",
   "metadata": {},
   "outputs": [],
   "source": [
    "def filter_ppg(signal, sampling_rate):\n",
    "    \n",
    "    signal = np.array(signal)\n",
    "    sampling_rate = float(sampling_rate)\n",
    "    filtered, _, _ = tools.filter_signal(signal=signal,\n",
    "                                  ftype='butter',\n",
    "                                  band='bandpass',\n",
    "                                  order=4, #3\n",
    "                                  frequency=[1, 8], #[0.5, 8]\n",
    "                                  sampling_rate=sampling_rate)\n",
    "\n",
    "    return filtered"
   ]
  },
  {
   "cell_type": "code",
   "execution_count": 6,
   "id": "d4bdec71-8dbf-41f8-b218-fafdf647f0d6",
   "metadata": {},
   "outputs": [],
   "source": [
    "def calc_hr(peaks, fs=250):\n",
    "    rr_inter = []\n",
    "    tmp = 0\n",
    "    for x in peaks:\n",
    "        if tmp == 0:\n",
    "            tmp = x\n",
    "            continue\n",
    "        rr_inter.append(60 / (abs(x - tmp) / fs))\n",
    "        tmp = x\n",
    "    return np.mean(rr_inter)\n",
    "\n",
    "def calc_ppg_hr(ppg_sig, fs, peak_method='elgendi'):\n",
    "    \"\"\"\n",
    "    method : \"elgendi\", \"bishop\"\n",
    "    \"\"\"\n",
    "    ppg_peak = nk.ppg_findpeaks(ppg_sig, sampling_rate=fs, method=peak_method)['PPG_Peaks']\n",
    "    hr = calc_hr(ppg_peak, fs)\n",
    "    \n",
    "    return hr\n",
    "\n",
    "def calc_ecg_hr(ecg_sig, fs, peak_method='nabian2018'):\n",
    "    \"\"\"\n",
    "    method : \"nabian2018\", \"neurokit\"\n",
    "    \"\"\"\n",
    "    ecg_peak = nk.ecg_peaks(ecg_sig, sampling_rate=fs, method=\"nabian2018\")[1]['ECG_R_Peaks']\n",
    "    hr = calc_hr(ecg_peak, fs)\n",
    "    \n",
    "    return hr"
   ]
  },
  {
   "cell_type": "code",
   "execution_count": 7,
   "id": "638015a0-fa85-4dda-837e-87d175516edc",
   "metadata": {},
   "outputs": [],
   "source": [
    "def MAE(y, y_pred):\n",
    "    return mean_absolute_error(y, y_pred)"
   ]
  },
  {
   "cell_type": "markdown",
   "id": "7b7e50d8-fd80-4a1b-b913-77659855b82a",
   "metadata": {},
   "source": [
    "- load P2E 모델"
   ]
  },
  {
   "cell_type": "code",
   "execution_count": 8,
   "id": "8162d131-edea-4c51-946d-660688979657",
   "metadata": {
    "scrolled": true
   },
   "outputs": [
    {
     "data": {
      "text/plain": [
       "GeneratorResNet(\n",
       "  (model): Sequential(\n",
       "    (0): ReflectionPad1d((1, 1))\n",
       "    (1): Conv1d(1, 64, kernel_size=(7,), stride=(1,), padding=(1,))\n",
       "    (2): InstanceNorm1d(64, eps=1e-05, momentum=0.1, affine=False, track_running_stats=False)\n",
       "    (3): LeakyReLU(negative_slope=0.2, inplace=True)\n",
       "    (4): Conv1d(64, 128, kernel_size=(3,), stride=(2,), padding=(2,))\n",
       "    (5): InstanceNorm1d(128, eps=1e-05, momentum=0.1, affine=False, track_running_stats=False)\n",
       "    (6): LeakyReLU(negative_slope=0.2, inplace=True)\n",
       "    (7): Conv1d(128, 256, kernel_size=(3,), stride=(2,), padding=(2,))\n",
       "    (8): InstanceNorm1d(256, eps=1e-05, momentum=0.1, affine=False, track_running_stats=False)\n",
       "    (9): LeakyReLU(negative_slope=0.2, inplace=True)\n",
       "    (10): ResidualBlock(\n",
       "      (block): Sequential(\n",
       "        (0): ReflectionPad1d((1, 1))\n",
       "        (1): Conv1d(256, 256, kernel_size=(3,), stride=(1,))\n",
       "        (2): InstanceNorm1d(256, eps=1e-05, momentum=0.1, affine=False, track_running_stats=False)\n",
       "        (3): LeakyReLU(negative_slope=0.2, inplace=True)\n",
       "        (4): ReflectionPad1d((1, 1))\n",
       "        (5): Conv1d(256, 256, kernel_size=(3,), stride=(1,))\n",
       "        (6): InstanceNorm1d(256, eps=1e-05, momentum=0.1, affine=False, track_running_stats=False)\n",
       "      )\n",
       "    )\n",
       "    (11): ResidualBlock(\n",
       "      (block): Sequential(\n",
       "        (0): ReflectionPad1d((1, 1))\n",
       "        (1): Conv1d(256, 256, kernel_size=(3,), stride=(1,))\n",
       "        (2): InstanceNorm1d(256, eps=1e-05, momentum=0.1, affine=False, track_running_stats=False)\n",
       "        (3): LeakyReLU(negative_slope=0.2, inplace=True)\n",
       "        (4): ReflectionPad1d((1, 1))\n",
       "        (5): Conv1d(256, 256, kernel_size=(3,), stride=(1,))\n",
       "        (6): InstanceNorm1d(256, eps=1e-05, momentum=0.1, affine=False, track_running_stats=False)\n",
       "      )\n",
       "    )\n",
       "    (12): ResidualBlock(\n",
       "      (block): Sequential(\n",
       "        (0): ReflectionPad1d((1, 1))\n",
       "        (1): Conv1d(256, 256, kernel_size=(3,), stride=(1,))\n",
       "        (2): InstanceNorm1d(256, eps=1e-05, momentum=0.1, affine=False, track_running_stats=False)\n",
       "        (3): LeakyReLU(negative_slope=0.2, inplace=True)\n",
       "        (4): ReflectionPad1d((1, 1))\n",
       "        (5): Conv1d(256, 256, kernel_size=(3,), stride=(1,))\n",
       "        (6): InstanceNorm1d(256, eps=1e-05, momentum=0.1, affine=False, track_running_stats=False)\n",
       "      )\n",
       "    )\n",
       "    (13): ResidualBlock(\n",
       "      (block): Sequential(\n",
       "        (0): ReflectionPad1d((1, 1))\n",
       "        (1): Conv1d(256, 256, kernel_size=(3,), stride=(1,))\n",
       "        (2): InstanceNorm1d(256, eps=1e-05, momentum=0.1, affine=False, track_running_stats=False)\n",
       "        (3): LeakyReLU(negative_slope=0.2, inplace=True)\n",
       "        (4): ReflectionPad1d((1, 1))\n",
       "        (5): Conv1d(256, 256, kernel_size=(3,), stride=(1,))\n",
       "        (6): InstanceNorm1d(256, eps=1e-05, momentum=0.1, affine=False, track_running_stats=False)\n",
       "      )\n",
       "    )\n",
       "    (14): ResidualBlock(\n",
       "      (block): Sequential(\n",
       "        (0): ReflectionPad1d((1, 1))\n",
       "        (1): Conv1d(256, 256, kernel_size=(3,), stride=(1,))\n",
       "        (2): InstanceNorm1d(256, eps=1e-05, momentum=0.1, affine=False, track_running_stats=False)\n",
       "        (3): LeakyReLU(negative_slope=0.2, inplace=True)\n",
       "        (4): ReflectionPad1d((1, 1))\n",
       "        (5): Conv1d(256, 256, kernel_size=(3,), stride=(1,))\n",
       "        (6): InstanceNorm1d(256, eps=1e-05, momentum=0.1, affine=False, track_running_stats=False)\n",
       "      )\n",
       "    )\n",
       "    (15): ResidualBlock(\n",
       "      (block): Sequential(\n",
       "        (0): ReflectionPad1d((1, 1))\n",
       "        (1): Conv1d(256, 256, kernel_size=(3,), stride=(1,))\n",
       "        (2): InstanceNorm1d(256, eps=1e-05, momentum=0.1, affine=False, track_running_stats=False)\n",
       "        (3): LeakyReLU(negative_slope=0.2, inplace=True)\n",
       "        (4): ReflectionPad1d((1, 1))\n",
       "        (5): Conv1d(256, 256, kernel_size=(3,), stride=(1,))\n",
       "        (6): InstanceNorm1d(256, eps=1e-05, momentum=0.1, affine=False, track_running_stats=False)\n",
       "      )\n",
       "    )\n",
       "    (16): Upsample(scale_factor=2.0, mode='nearest')\n",
       "    (17): Conv1d(256, 128, kernel_size=(3,), stride=(1,), padding=(1,))\n",
       "    (18): InstanceNorm1d(128, eps=1e-05, momentum=0.1, affine=False, track_running_stats=False)\n",
       "    (19): LeakyReLU(negative_slope=0.2, inplace=True)\n",
       "    (20): Upsample(scale_factor=2.0, mode='nearest')\n",
       "    (21): Conv1d(128, 64, kernel_size=(3,), stride=(1,), padding=(1,))\n",
       "    (22): InstanceNorm1d(64, eps=1e-05, momentum=0.1, affine=False, track_running_stats=False)\n",
       "    (23): LeakyReLU(negative_slope=0.2, inplace=True)\n",
       "    (24): ReflectionPad1d((1, 1))\n",
       "    (25): Conv1d(64, 1, kernel_size=(7,), stride=(1,))\n",
       "    (26): Tanh()\n",
       "  )\n",
       ")"
      ]
     },
     "execution_count": 8,
     "metadata": {},
     "output_type": "execute_result"
    }
   ],
   "source": [
    "weights_path = './gan_weights/PPG2ECG_CycleGAN_1Epochs.pth'\n",
    "input_shape = (None, 1, int(128 * 64))\n",
    "n_residual_blocks = 6\n",
    "\n",
    "G_AB = GeneratorResNet(input_shape, n_residual_blocks)\n",
    "weights = torch.load(weights_path)\n",
    "G_AB.load_state_dict(weights['G_AB'])\n",
    "G_AB.to(DEVICE)\n",
    "G_AB.eval()"
   ]
  },
  {
   "cell_type": "markdown",
   "id": "b438495f-7a96-42a1-9348-2239ca7b784c",
   "metadata": {},
   "source": [
    "- get datapaths"
   ]
  },
  {
   "cell_type": "code",
   "execution_count": 12,
   "id": "6c832759-2dbf-4d48-a1c4-0d5e6c712727",
   "metadata": {},
   "outputs": [],
   "source": [
    "sig_paths = glob.glob('../00_Data/01_PPG2ECG/01_Original/02_CapnoBase/data/csv/*_*_signal.csv')\n",
    "gt_paths = [i for i in range(len(sig_paths))]"
   ]
  },
  {
   "cell_type": "markdown",
   "id": "aa77133b-1fcb-4369-813c-658e7950d5a5",
   "metadata": {},
   "source": [
    "- HR 추정"
   ]
  },
  {
   "cell_type": "code",
   "execution_count": 14,
   "id": "0d4702af-8967-43ca-b942-68db4e7b3b1d",
   "metadata": {},
   "outputs": [
    {
     "name": "stderr",
     "output_type": "stream",
     "text": [
      "100%|██████████████████████████████████████████████████████████████████████████████████| 42/42 [00:29<00:00,  1.42it/s]\n"
     ]
    }
   ],
   "source": [
    "origin_sig_fs = 300\n",
    "target_sig_fs = 128\n",
    "window_sec = 64\n",
    "window_size = window_sec * origin_sig_fs\n",
    "\n",
    "ppg_hr_mae_list = []\n",
    "ecg_hr_mae_list = []\n",
    "\n",
    "pro_paths = []\n",
    "for sig_path, gt_path in tqdm(zip(sig_paths, gt_paths), total=len(sig_paths)):\n",
    "    origin_sig = pd.read_csv(sig_path)\n",
    "#     origin_gt = pd.read_csv(gt_path)\n",
    "    \n",
    "    ppg_sig = origin_sig['pleth_y'].values\n",
    "    origin_ecg_sig = origin_sig['ecg_y'].values\n",
    "    \n",
    "    # PPG signal process\n",
    "    ppg_sig_processed = []\n",
    "    sig_iters = len(ppg_sig) // window_size\n",
    "    for i in range(sig_iters):\n",
    "        ppg_seg = ppg_sig[i*window_size : (i+1)*window_size]\n",
    "        ppg_seg = interp_spline(ppg_seg, step=target_sig_fs*window_sec, k=5)\n",
    "        ppg_seg = (ppg_seg-ppg_seg.mean()) / (ppg_seg.std() + 1e-17)\n",
    "        ppg_seg = skp.minmax_scale(ppg_seg, (-1, 1), axis=0)\n",
    "        ppg_sig_processed.append(np.expand_dims(ppg_seg, 0))\n",
    "    ppg_sig_processed = np.array(ppg_sig_processed)\n",
    "    \n",
    "    # Origin ECG signal process (do not interpolation)\n",
    "    origin_ecg_sig_processed = []\n",
    "    sig_iters = len(origin_ecg_sig) // window_size\n",
    "    for i in range(sig_iters):\n",
    "        origin_ecg_seg = origin_ecg_sig[i*window_size : (i+1)*window_size]\n",
    "        origin_ecg_seg = (origin_ecg_seg-origin_ecg_seg.mean()) / (origin_ecg_seg.std() + 1e-17)\n",
    "        origin_ecg_seg = skp.minmax_scale(origin_ecg_seg, (-1, 1), axis=0)\n",
    "        origin_ecg_sig_processed.append(np.expand_dims(origin_ecg_seg, 0))\n",
    "    origin_ecg_sig_processed = np.array(origin_ecg_sig_processed)\n",
    "    \n",
    "    # make syn ecg\n",
    "    input_ppg_sig = torch.from_numpy(ppg_sig_processed).type(torch.FloatTensor).to(DEVICE)\n",
    "    syn_ecg_sig = G_AB(input_ppg_sig).data.cpu().numpy()\n",
    "    \n",
    "    # HR GT process (origin ecg -> HR)\n",
    "    HR_GT_seg = []\n",
    "    for i in range(len(origin_ecg_sig_processed)):\n",
    "        gt_hr = calc_ecg_hr(origin_ecg_sig_processed[i][0], fs=origin_sig_fs)\n",
    "        HR_GT_seg.append(gt_hr)\n",
    "    HR_GT_seg = np.array(HR_GT_seg)\n",
    "        \n",
    "    # inference PPG HR\n",
    "    ppg_infer_hr = []\n",
    "    for i in range(len(ppg_sig_processed)):\n",
    "        ppg_hr = calc_ppg_hr(ppg_sig_processed[i][0], fs=target_sig_fs)\n",
    "        ppg_infer_hr.append(ppg_hr)\n",
    "    ppg_infer_hr = np.array(ppg_infer_hr)\n",
    "    \n",
    "    # inference SYNECG HR\n",
    "    ecg_infer_hr = []\n",
    "    for i in range(len(ppg_sig_processed)):\n",
    "        ecg_hr = calc_ppg_hr(syn_ecg_sig[i][0], fs=target_sig_fs)\n",
    "        ecg_infer_hr.append(ecg_hr)\n",
    "    ecg_infer_hr = np.array(ecg_infer_hr)\n",
    "        \n",
    "    # calculate MAE\n",
    "    if np.isnan(HR_GT_seg.sum()):\n",
    "        except_index = np.argwhere(np.isnan(HR_GT_seg)).flatten()\n",
    "        HR_GT_seg = np.delete(HR_GT_seg, except_index)\n",
    "        ppg_infer_hr = np.delete(ppg_infer_hr, except_index)\n",
    "        ecg_infer_hr = np.delete(ecg_infer_hr, except_index)\n",
    "            \n",
    "    ppg_mae = MAE(HR_GT_seg, ppg_infer_hr)\n",
    "    ecg_mae = MAE(HR_GT_seg, ecg_infer_hr)\n",
    "\n",
    "    ppg_hr_mae_list.append(ppg_mae)\n",
    "    ecg_hr_mae_list.append(ecg_mae)"
   ]
  },
  {
   "cell_type": "markdown",
   "id": "578c9e33-968e-4c05-8b4d-f373453c12fd",
   "metadata": {},
   "source": [
    "- PPG HR 오차"
   ]
  },
  {
   "cell_type": "code",
   "execution_count": 15,
   "id": "224f5a05-2d94-4ae2-9b15-3f9921f1b7a5",
   "metadata": {},
   "outputs": [
    {
     "data": {
      "text/plain": [
       "0.6754510907636002"
      ]
     },
     "execution_count": 15,
     "metadata": {},
     "output_type": "execute_result"
    }
   ],
   "source": [
    "np.array(ppg_hr_mae_list).mean()"
   ]
  },
  {
   "cell_type": "markdown",
   "id": "f41f6d6c-122d-4203-b12f-488c0dcd8e63",
   "metadata": {},
   "source": [
    "- SYNECG HR 오차"
   ]
  },
  {
   "cell_type": "code",
   "execution_count": 16,
   "id": "37602302-d35e-4167-ba2b-22c9f893ffd9",
   "metadata": {},
   "outputs": [
    {
     "data": {
      "text/plain": [
       "0.7656395385897011"
      ]
     },
     "execution_count": 16,
     "metadata": {},
     "output_type": "execute_result"
    }
   ],
   "source": [
    "np.array(ecg_hr_mae_list).mean()"
   ]
  }
 ],
 "metadata": {
  "kernelspec": {
   "display_name": "Python 3 (ipykernel)",
   "language": "python",
   "name": "python3"
  },
  "language_info": {
   "codemirror_mode": {
    "name": "ipython",
    "version": 3
   },
   "file_extension": ".py",
   "mimetype": "text/x-python",
   "name": "python",
   "nbconvert_exporter": "python",
   "pygments_lexer": "ipython3",
   "version": "3.8.18"
  }
 },
 "nbformat": 4,
 "nbformat_minor": 5
}
