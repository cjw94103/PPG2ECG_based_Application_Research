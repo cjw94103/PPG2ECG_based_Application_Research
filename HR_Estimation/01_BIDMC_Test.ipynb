{
 "cells": [
  {
   "cell_type": "code",
   "execution_count": 1,
   "id": "fe43f106-40f7-4df9-bd64-c6158744b1cd",
   "metadata": {},
   "outputs": [],
   "source": [
    "import warnings\n",
    "warnings.filterwarnings('ignore')\n",
    "\n",
    "import glob\n",
    "import numpy as np\n",
    "import torch\n",
    "import matplotlib.pyplot as plt\n",
    "import pandas as pd\n",
    "import sklearn.preprocessing as skp\n",
    "\n",
    "from gan_models import GeneratorResNet\n",
    "from scipy.interpolate import splrep, splev\n",
    "from biosppy.signals import tools as tools\n",
    "from tqdm import tqdm\n",
    "\n",
    "import heartpy as hp\n",
    "from sklearn.metrics import mean_absolute_error\n",
    "import neurokit2 as nk"
   ]
  },
  {
   "cell_type": "markdown",
   "id": "ffa5d7e4-4c02-4bca-b8c2-54bb82d433f9",
   "metadata": {},
   "source": [
    "- Define Device"
   ]
  },
  {
   "cell_type": "code",
   "execution_count": 2,
   "id": "8b2fe819-66e8-4683-9f8d-05ae36f9bc72",
   "metadata": {},
   "outputs": [
    {
     "name": "stdout",
     "output_type": "stream",
     "text": [
      "Using Pytorch Versions: 2.1.1+cu118  Device: cuda\n"
     ]
    }
   ],
   "source": [
    "if torch.cuda.is_available():\n",
    "    DEVICE = torch.device('cuda')\n",
    "else:\n",
    "    DEVICE = torch.device('cpu')\n",
    "\n",
    "print(\"Using Pytorch Versions:\", torch.__version__, ' Device:', DEVICE)"
   ]
  },
  {
   "cell_type": "markdown",
   "id": "b81bf7c0-10c0-4b51-b6f0-7b69ad288a48",
   "metadata": {},
   "source": [
    "- 필요 함수"
   ]
  },
  {
   "cell_type": "code",
   "execution_count": 3,
   "id": "cd719eca-560f-49d9-86e8-beb48e012bb7",
   "metadata": {},
   "outputs": [],
   "source": [
    "def interp_spline(ecg, step=1, k=3):\n",
    "\n",
    "    x_new = np.arange(0, ecg.shape[0], ecg.shape[0]/step)\n",
    "    interp_spline_method = splrep(np.arange(0, ecg.shape[0], 1), ecg, k=k)\n",
    "    return splev(x_new, interp_spline_method)"
   ]
  },
  {
   "cell_type": "code",
   "execution_count": 4,
   "id": "91f40f93-4dd1-4325-a9fb-033b1a677dd7",
   "metadata": {},
   "outputs": [],
   "source": [
    "def filter_ppg(signal, sampling_rate):\n",
    "    \n",
    "    signal = np.array(signal)\n",
    "    sampling_rate = float(sampling_rate)\n",
    "    filtered, _, _ = tools.filter_signal(signal=signal,\n",
    "                                  ftype='butter',\n",
    "                                  band='bandpass',\n",
    "                                  order=4, #3\n",
    "                                  frequency=[1, 8], #[0.5, 8]\n",
    "                                  sampling_rate=sampling_rate)\n",
    "\n",
    "    return filtered"
   ]
  },
  {
   "cell_type": "code",
   "execution_count": 5,
   "id": "eaaa7aa0-960a-4592-a656-4b754586258e",
   "metadata": {},
   "outputs": [],
   "source": [
    "def calc_hr(peaks, fs=250):\n",
    "    rr_inter = []\n",
    "    tmp = 0\n",
    "    for x in peaks:\n",
    "        if tmp == 0:\n",
    "            tmp = x\n",
    "            continue\n",
    "        rr_inter.append(60 / (abs(x - tmp) / fs))\n",
    "        tmp = x\n",
    "    return np.mean(rr_inter)\n",
    "\n",
    "def calc_ppg_hr(ppg_sig, fs, peak_method='elgendi'):\n",
    "    \"\"\"\n",
    "    method : \"elgendi\", \"bishop\"\n",
    "    \"\"\"\n",
    "    ppg_peak = nk.ppg_findpeaks(ppg_sig, sampling_rate=fs, method=peak_method)['PPG_Peaks']\n",
    "    hr = calc_hr(ppg_peak, fs)\n",
    "    \n",
    "    return hr\n",
    "\n",
    "def calc_ecg_hr(ecg_sig, fs, peak_method='nabian2018'):\n",
    "    \"\"\"\n",
    "    method : \"nabian2018\", \"neurokit\"\n",
    "    \"\"\"\n",
    "    ecg_peak = nk.ecg_peaks(ecg_sig, sampling_rate=fs, method=\"nabian2018\")[1]['ECG_R_Peaks']\n",
    "    hr = calc_hr(ecg_peak, fs)\n",
    "    \n",
    "    return hr"
   ]
  },
  {
   "cell_type": "code",
   "execution_count": 6,
   "id": "a7cfc7e5-76f4-4553-8fd0-76eabc60f59c",
   "metadata": {},
   "outputs": [],
   "source": [
    "def MAE(y, y_pred):\n",
    "    return mean_absolute_error(y, y_pred)"
   ]
  },
  {
   "cell_type": "markdown",
   "id": "92bac36c-7634-42dc-bae2-194b0b5d6f45",
   "metadata": {},
   "source": [
    "- load P2E model"
   ]
  },
  {
   "cell_type": "code",
   "execution_count": 7,
   "id": "55481874-b2ca-4349-996d-9962c8e5e3e6",
   "metadata": {
    "scrolled": true
   },
   "outputs": [
    {
     "data": {
      "text/plain": [
       "GeneratorResNet(\n",
       "  (model): Sequential(\n",
       "    (0): ReflectionPad1d((1, 1))\n",
       "    (1): Conv1d(1, 64, kernel_size=(7,), stride=(1,), padding=(1,))\n",
       "    (2): InstanceNorm1d(64, eps=1e-05, momentum=0.1, affine=False, track_running_stats=False)\n",
       "    (3): LeakyReLU(negative_slope=0.2, inplace=True)\n",
       "    (4): Conv1d(64, 128, kernel_size=(3,), stride=(2,), padding=(2,))\n",
       "    (5): InstanceNorm1d(128, eps=1e-05, momentum=0.1, affine=False, track_running_stats=False)\n",
       "    (6): LeakyReLU(negative_slope=0.2, inplace=True)\n",
       "    (7): Conv1d(128, 256, kernel_size=(3,), stride=(2,), padding=(2,))\n",
       "    (8): InstanceNorm1d(256, eps=1e-05, momentum=0.1, affine=False, track_running_stats=False)\n",
       "    (9): LeakyReLU(negative_slope=0.2, inplace=True)\n",
       "    (10): ResidualBlock(\n",
       "      (block): Sequential(\n",
       "        (0): ReflectionPad1d((1, 1))\n",
       "        (1): Conv1d(256, 256, kernel_size=(3,), stride=(1,))\n",
       "        (2): InstanceNorm1d(256, eps=1e-05, momentum=0.1, affine=False, track_running_stats=False)\n",
       "        (3): LeakyReLU(negative_slope=0.2, inplace=True)\n",
       "        (4): ReflectionPad1d((1, 1))\n",
       "        (5): Conv1d(256, 256, kernel_size=(3,), stride=(1,))\n",
       "        (6): InstanceNorm1d(256, eps=1e-05, momentum=0.1, affine=False, track_running_stats=False)\n",
       "      )\n",
       "    )\n",
       "    (11): ResidualBlock(\n",
       "      (block): Sequential(\n",
       "        (0): ReflectionPad1d((1, 1))\n",
       "        (1): Conv1d(256, 256, kernel_size=(3,), stride=(1,))\n",
       "        (2): InstanceNorm1d(256, eps=1e-05, momentum=0.1, affine=False, track_running_stats=False)\n",
       "        (3): LeakyReLU(negative_slope=0.2, inplace=True)\n",
       "        (4): ReflectionPad1d((1, 1))\n",
       "        (5): Conv1d(256, 256, kernel_size=(3,), stride=(1,))\n",
       "        (6): InstanceNorm1d(256, eps=1e-05, momentum=0.1, affine=False, track_running_stats=False)\n",
       "      )\n",
       "    )\n",
       "    (12): ResidualBlock(\n",
       "      (block): Sequential(\n",
       "        (0): ReflectionPad1d((1, 1))\n",
       "        (1): Conv1d(256, 256, kernel_size=(3,), stride=(1,))\n",
       "        (2): InstanceNorm1d(256, eps=1e-05, momentum=0.1, affine=False, track_running_stats=False)\n",
       "        (3): LeakyReLU(negative_slope=0.2, inplace=True)\n",
       "        (4): ReflectionPad1d((1, 1))\n",
       "        (5): Conv1d(256, 256, kernel_size=(3,), stride=(1,))\n",
       "        (6): InstanceNorm1d(256, eps=1e-05, momentum=0.1, affine=False, track_running_stats=False)\n",
       "      )\n",
       "    )\n",
       "    (13): ResidualBlock(\n",
       "      (block): Sequential(\n",
       "        (0): ReflectionPad1d((1, 1))\n",
       "        (1): Conv1d(256, 256, kernel_size=(3,), stride=(1,))\n",
       "        (2): InstanceNorm1d(256, eps=1e-05, momentum=0.1, affine=False, track_running_stats=False)\n",
       "        (3): LeakyReLU(negative_slope=0.2, inplace=True)\n",
       "        (4): ReflectionPad1d((1, 1))\n",
       "        (5): Conv1d(256, 256, kernel_size=(3,), stride=(1,))\n",
       "        (6): InstanceNorm1d(256, eps=1e-05, momentum=0.1, affine=False, track_running_stats=False)\n",
       "      )\n",
       "    )\n",
       "    (14): ResidualBlock(\n",
       "      (block): Sequential(\n",
       "        (0): ReflectionPad1d((1, 1))\n",
       "        (1): Conv1d(256, 256, kernel_size=(3,), stride=(1,))\n",
       "        (2): InstanceNorm1d(256, eps=1e-05, momentum=0.1, affine=False, track_running_stats=False)\n",
       "        (3): LeakyReLU(negative_slope=0.2, inplace=True)\n",
       "        (4): ReflectionPad1d((1, 1))\n",
       "        (5): Conv1d(256, 256, kernel_size=(3,), stride=(1,))\n",
       "        (6): InstanceNorm1d(256, eps=1e-05, momentum=0.1, affine=False, track_running_stats=False)\n",
       "      )\n",
       "    )\n",
       "    (15): ResidualBlock(\n",
       "      (block): Sequential(\n",
       "        (0): ReflectionPad1d((1, 1))\n",
       "        (1): Conv1d(256, 256, kernel_size=(3,), stride=(1,))\n",
       "        (2): InstanceNorm1d(256, eps=1e-05, momentum=0.1, affine=False, track_running_stats=False)\n",
       "        (3): LeakyReLU(negative_slope=0.2, inplace=True)\n",
       "        (4): ReflectionPad1d((1, 1))\n",
       "        (5): Conv1d(256, 256, kernel_size=(3,), stride=(1,))\n",
       "        (6): InstanceNorm1d(256, eps=1e-05, momentum=0.1, affine=False, track_running_stats=False)\n",
       "      )\n",
       "    )\n",
       "    (16): Upsample(scale_factor=2.0, mode='nearest')\n",
       "    (17): Conv1d(256, 128, kernel_size=(3,), stride=(1,), padding=(1,))\n",
       "    (18): InstanceNorm1d(128, eps=1e-05, momentum=0.1, affine=False, track_running_stats=False)\n",
       "    (19): LeakyReLU(negative_slope=0.2, inplace=True)\n",
       "    (20): Upsample(scale_factor=2.0, mode='nearest')\n",
       "    (21): Conv1d(128, 64, kernel_size=(3,), stride=(1,), padding=(1,))\n",
       "    (22): InstanceNorm1d(64, eps=1e-05, momentum=0.1, affine=False, track_running_stats=False)\n",
       "    (23): LeakyReLU(negative_slope=0.2, inplace=True)\n",
       "    (24): ReflectionPad1d((1, 1))\n",
       "    (25): Conv1d(64, 1, kernel_size=(7,), stride=(1,))\n",
       "    (26): Tanh()\n",
       "  )\n",
       ")"
      ]
     },
     "execution_count": 7,
     "metadata": {},
     "output_type": "execute_result"
    }
   ],
   "source": [
    "weights_path = './gan_weights/PPG2ECG_CycleGAN_1Epochs.pth'\n",
    "input_shape = (None, 1, int(128 * 64))\n",
    "n_residual_blocks = 6\n",
    "\n",
    "G_AB = GeneratorResNet(input_shape, n_residual_blocks)\n",
    "weights = torch.load(weights_path)\n",
    "G_AB.load_state_dict(weights['G_AB'])\n",
    "G_AB.to(DEVICE)\n",
    "G_AB.eval()"
   ]
  },
  {
   "cell_type": "markdown",
   "id": "3c908e90-1a8a-48cb-baf8-afa21804a4d7",
   "metadata": {},
   "source": [
    "- get datapaths"
   ]
  },
  {
   "cell_type": "code",
   "execution_count": 8,
   "id": "791887bd-e063-454a-abff-7368c592ca57",
   "metadata": {},
   "outputs": [],
   "source": [
    "sig_paths = glob.glob('../00_Data/01_PPG2ECG/01_Original/01_BIDMC/bidmc_*_Signals.csv')\n",
    "gt_paths = [sig_paths[i].replace('Signals', 'Numerics') for i in range(len(sig_paths))]"
   ]
  },
  {
   "cell_type": "markdown",
   "id": "c523a86d-ee3d-4336-8e4c-311b81f0e3d7",
   "metadata": {},
   "source": [
    "- HR Estimation"
   ]
  },
  {
   "cell_type": "code",
   "execution_count": 9,
   "id": "3ee0012a-cabf-4211-8ed2-1a1138453970",
   "metadata": {},
   "outputs": [
    {
     "name": "stderr",
     "output_type": "stream",
     "text": [
      "100%|██████████████████████████████████████████████████████████████████████████████████| 53/53 [00:25<00:00,  2.09it/s]\n"
     ]
    }
   ],
   "source": [
    "origin_sig_fs = 125\n",
    "target_sig_fs = 128\n",
    "window_sec = 64\n",
    "window_size = window_sec * origin_sig_fs\n",
    "\n",
    "ppg_hr_mae_list = []\n",
    "ecg_hr_mae_list = []\n",
    "\n",
    "pro_paths = []\n",
    "for sig_path, gt_path in tqdm(zip(sig_paths, gt_paths), total=len(sig_paths)):\n",
    "    origin_sig = pd.read_csv(sig_path)\n",
    "    \n",
    "    ppg_sig = origin_sig[' PLETH'].values\n",
    "    origin_ecg_sig = origin_sig[' II'].values\n",
    "    \n",
    "    # PPG signal process\n",
    "    ppg_sig_processed = []\n",
    "    sig_iters = len(ppg_sig) // window_size\n",
    "    for i in range(sig_iters):\n",
    "        ppg_seg = ppg_sig[i*window_size : (i+1)*window_size]\n",
    "        ppg_seg = interp_spline(ppg_seg, step=target_sig_fs*window_sec, k=5)\n",
    "        ppg_seg = (ppg_seg-ppg_seg.mean()) / (ppg_seg.std() + 1e-17)\n",
    "        ppg_seg = skp.minmax_scale(ppg_seg, (-1, 1), axis=0)\n",
    "        ppg_sig_processed.append(np.expand_dims(ppg_seg, 0))\n",
    "    ppg_sig_processed = np.array(ppg_sig_processed)\n",
    "    \n",
    "    # Origin ECG signal process (do not interpolation)\n",
    "    origin_ecg_sig_processed = []\n",
    "    sig_iters = len(origin_ecg_sig) // window_size\n",
    "    for i in range(sig_iters):\n",
    "        origin_ecg_seg = origin_ecg_sig[i*window_size : (i+1)*window_size]\n",
    "        origin_ecg_seg = (origin_ecg_seg-origin_ecg_seg.mean()) / (origin_ecg_seg.std() + 1e-17)\n",
    "        origin_ecg_seg = skp.minmax_scale(origin_ecg_seg, (-1, 1), axis=0)\n",
    "        origin_ecg_sig_processed.append(np.expand_dims(origin_ecg_seg, 0))\n",
    "    origin_ecg_sig_processed = np.array(origin_ecg_sig_processed)\n",
    "    \n",
    "    # make syn ecg\n",
    "    input_ppg_sig = torch.from_numpy(ppg_sig_processed).type(torch.FloatTensor).to(DEVICE)\n",
    "    syn_ecg_sig = G_AB(input_ppg_sig).data.cpu().numpy()\n",
    "    \n",
    "    # HR GT process (origin ecg -> HR)\n",
    "    HR_GT_seg = []\n",
    "    for i in range(len(origin_ecg_sig_processed)):\n",
    "        gt_hr = calc_ecg_hr(origin_ecg_sig_processed[i][0], fs=origin_sig_fs)\n",
    "        HR_GT_seg.append(gt_hr)\n",
    "    HR_GT_seg = np.array(HR_GT_seg)\n",
    "        \n",
    "    # inference PPG HR\n",
    "    ppg_infer_hr = []\n",
    "    for i in range(len(ppg_sig_processed)):\n",
    "        ppg_hr = calc_ppg_hr(ppg_sig_processed[i][0], fs=target_sig_fs)\n",
    "        ppg_infer_hr.append(ppg_hr)\n",
    "    ppg_infer_hr = np.array(ppg_infer_hr)\n",
    "    \n",
    "    # inference SYNECG HR\n",
    "    ecg_infer_hr = []\n",
    "    for i in range(len(ppg_sig_processed)):\n",
    "        ecg_hr = calc_ppg_hr(syn_ecg_sig[i][0], fs=target_sig_fs)\n",
    "        ecg_infer_hr.append(ecg_hr)\n",
    "    ecg_infer_hr = np.array(ecg_infer_hr)\n",
    "        \n",
    "    # calculate MAE\n",
    "    if np.isnan(HR_GT_seg.sum()):\n",
    "        except_index = np.argwhere(np.isnan(HR_GT_seg)).flatten()\n",
    "        HR_GT_seg = np.delete(HR_GT_seg, except_index)\n",
    "        ppg_infer_hr = np.delete(ppg_infer_hr, except_index)\n",
    "        ecg_infer_hr = np.delete(ecg_infer_hr, except_index)\n",
    "            \n",
    "    ppg_mae = MAE(HR_GT_seg, ppg_infer_hr)\n",
    "    ecg_mae = MAE(HR_GT_seg, ecg_infer_hr)\n",
    "\n",
    "    ppg_hr_mae_list.append(ppg_mae)\n",
    "    ecg_hr_mae_list.append(ecg_mae)"
   ]
  },
  {
   "cell_type": "markdown",
   "id": "3961c683-1273-47ec-8ad8-fafa2cf86078",
   "metadata": {},
   "source": [
    "- PPG HR MAE"
   ]
  },
  {
   "cell_type": "code",
   "execution_count": 10,
   "id": "43099f9f-9b2a-4e40-ac8c-62e777da9bcb",
   "metadata": {},
   "outputs": [
    {
     "data": {
      "text/plain": [
       "2.646809836196258"
      ]
     },
     "execution_count": 10,
     "metadata": {},
     "output_type": "execute_result"
    }
   ],
   "source": [
    "np.array(ppg_hr_mae_list).mean()"
   ]
  },
  {
   "cell_type": "markdown",
   "id": "07e4338a-20a9-4cb8-9437-1ebd6bcfbc08",
   "metadata": {},
   "source": [
    "- SYNECG HR MAE"
   ]
  },
  {
   "cell_type": "code",
   "execution_count": 11,
   "id": "cb71332a-246b-422e-b214-be80428d1b3d",
   "metadata": {},
   "outputs": [
    {
     "data": {
      "text/plain": [
       "2.5718604500543285"
      ]
     },
     "execution_count": 11,
     "metadata": {},
     "output_type": "execute_result"
    }
   ],
   "source": [
    "np.array(ecg_hr_mae_list).mean()"
   ]
  }
 ],
 "metadata": {
  "kernelspec": {
   "display_name": "Python 3 (ipykernel)",
   "language": "python",
   "name": "python3"
  },
  "language_info": {
   "codemirror_mode": {
    "name": "ipython",
    "version": 3
   },
   "file_extension": ".py",
   "mimetype": "text/x-python",
   "name": "python",
   "nbconvert_exporter": "python",
   "pygments_lexer": "ipython3",
   "version": "3.8.18"
  }
 },
 "nbformat": 4,
 "nbformat_minor": 5
}
