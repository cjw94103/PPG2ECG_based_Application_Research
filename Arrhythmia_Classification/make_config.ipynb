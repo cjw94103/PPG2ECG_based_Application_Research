{
 "cells": [
  {
   "cell_type": "code",
   "execution_count": 1,
   "id": "b00ed1d4-6435-4d47-b6a9-8d95e5aeaf5b",
   "metadata": {},
   "outputs": [],
   "source": [
    "from utils import *"
   ]
  },
  {
   "cell_type": "code",
   "execution_count": 2,
   "id": "9187b6f4-650c-4894-ac04-39efc4859972",
   "metadata": {},
   "outputs": [],
   "source": [
    "param_dict = {}\n",
    "param_dict['partition_path'] = \"./partition/03_partition_formatting.npy\"\n",
    "param_dict['num_workers'] = 0\n",
    "param_dict['batch_size'] = 128\n",
    "\n",
    "# data 관련\n",
    "param_dict['target_sampling_rate'] = 128.\n",
    "param_dict['min_max_norm'] = True\n",
    "param_dict['z_score_norm'] = True\n",
    "param_dict['sig_time_len'] = 10\n",
    "param_dict['interp_method'] = 'spline'\n",
    "param_dict['z_score_norm_rescale'] = False\n",
    "param_dict['min_max_norm_rescale'] = True\n",
    "\n",
    "# Architecture\n",
    "param_dict['in_channels'] = 2\n",
    "param_dict['num_classes'] = 6\n",
    "\n",
    "# 학습 관련\n",
    "param_dict['lr'] = 0.005\n",
    "param_dict['weight_decay'] = 1e-5\n",
    "param_dict['num_epochs'] = 60\n",
    "param_dict['monitor']  = 'average_f1'\n",
    "param_dict['model_save_path'] = './model_result/02_PPGECG/VGG16_PPGECG.pth'\n",
    "\n",
    "# dist learning\n",
    "param_dict['dist_proc_port'] = '12455'"
   ]
  },
  {
   "cell_type": "code",
   "execution_count": 3,
   "id": "acd81d80-e34a-4c60-9c17-38d5df52f9e6",
   "metadata": {},
   "outputs": [],
   "source": [
    "save_json('./config/VGG16_PPGECG.json', param_dict)"
   ]
  },
  {
   "cell_type": "code",
   "execution_count": null,
   "id": "d5381578-cf7d-4033-a9df-4c62de062b0d",
   "metadata": {},
   "outputs": [],
   "source": []
  },
  {
   "cell_type": "code",
   "execution_count": null,
   "id": "7b8b1513-33dc-4900-9303-35cbe5cef32b",
   "metadata": {},
   "outputs": [],
   "source": []
  },
  {
   "cell_type": "code",
   "execution_count": null,
   "id": "e0ada559-12ca-4908-8c0d-a914c6b9cf7b",
   "metadata": {},
   "outputs": [],
   "source": []
  },
  {
   "cell_type": "code",
   "execution_count": 2,
   "id": "97c562f4-66fa-484d-8541-1f965bbb1c9e",
   "metadata": {},
   "outputs": [],
   "source": [
    "param_dict = load_json_file('./config/VGG16_OnlyPPG.json')"
   ]
  },
  {
   "cell_type": "code",
   "execution_count": 3,
   "id": "7a6c7d61-d739-4b96-b9dc-4f8a3c8895f2",
   "metadata": {},
   "outputs": [],
   "source": [
    "param_dict['num_epochs'] = 30\n",
    "param_dict['weight_decay'] = 5e-5"
   ]
  },
  {
   "cell_type": "code",
   "execution_count": 4,
   "id": "00f0c2f7-8f84-4390-8a4e-4a9b220904f0",
   "metadata": {},
   "outputs": [],
   "source": [
    "save_json('./config/VGG16_OnlyPPG.json', param_dict)"
   ]
  }
 ],
 "metadata": {
  "kernelspec": {
   "display_name": "Python 3 (ipykernel)",
   "language": "python",
   "name": "python3"
  },
  "language_info": {
   "codemirror_mode": {
    "name": "ipython",
    "version": 3
   },
   "file_extension": ".py",
   "mimetype": "text/x-python",
   "name": "python",
   "nbconvert_exporter": "python",
   "pygments_lexer": "ipython3",
   "version": "3.8.18"
  }
 },
 "nbformat": 4,
 "nbformat_minor": 5
}
