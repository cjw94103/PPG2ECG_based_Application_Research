{
 "cells": [
  {
   "cell_type": "code",
   "execution_count": 1,
   "id": "59257e29-1e0b-4c99-94a5-2282ffa15cb5",
   "metadata": {},
   "outputs": [],
   "source": [
    "import numpy as np\n",
    "import torch\n",
    "import glob\n",
    "import sklearn.preprocessing as skp\n",
    "\n",
    "from dataset import PPG_Dataset\n",
    "from models import vgg16_bn\n",
    "from gan_models import GeneratorResNet\n",
    "from sklearn.metrics import classification_report\n",
    "from tqdm import tqdm\n",
    "from make_args import Args"
   ]
  },
  {
   "cell_type": "markdown",
   "id": "22cf940c-ef4a-4693-ae79-0b962628b45d",
   "metadata": {},
   "source": [
    "- args"
   ]
  },
  {
   "cell_type": "code",
   "execution_count": 2,
   "id": "11133122-19e0-48e3-9d09-6fc9fcc22269",
   "metadata": {},
   "outputs": [],
   "source": [
    "args = Args('./config/VGG16_PPGECG.json')"
   ]
  },
  {
   "cell_type": "markdown",
   "id": "d36f0063-432b-42f5-a90a-767897afc992",
   "metadata": {},
   "source": [
    "- 필요 함수"
   ]
  },
  {
   "cell_type": "code",
   "execution_count": 3,
   "id": "2e6e30bd-6503-4f2e-9c8d-39399b787b8a",
   "metadata": {},
   "outputs": [],
   "source": [
    "def make_syn_ecg(G_AB, input_ppg):\n",
    "    with torch.no_grad():\n",
    "        syn_ecg = G_AB(input_ppg)\n",
    "\n",
    "    return syn_ecg"
   ]
  },
  {
   "cell_type": "code",
   "execution_count": 4,
   "id": "eaef5751-408f-4e3a-9803-4a9233ae28a8",
   "metadata": {},
   "outputs": [],
   "source": [
    "def normalize_data(data, z_score_norm=True, min_max_norm=False):\n",
    "    norm_data = []\n",
    "    data = data.data.cpu().numpy()\n",
    "\n",
    "    for i in range(len(data)):\n",
    "        target_data = data[i].copy()\n",
    "        if z_score_norm:\n",
    "            target_data = (target_data - target_data.mean()) / (target_data.std() + 1e-17)\n",
    "        if min_max_norm:\n",
    "            target_data = skp.minmax_scale(target_data, (-1, 1), axis=1)\n",
    "        norm_data.append(target_data)\n",
    "\n",
    "    return torch.from_numpy(np.array(norm_data)).type(torch.FloatTensor)"
   ]
  },
  {
   "cell_type": "markdown",
   "id": "00642dcf-a9dc-4c34-acbd-091dc0ec31de",
   "metadata": {},
   "source": [
    "- Define Device"
   ]
  },
  {
   "cell_type": "code",
   "execution_count": 5,
   "id": "86bef233-3404-45f2-b670-9e947f545dfe",
   "metadata": {},
   "outputs": [
    {
     "name": "stdout",
     "output_type": "stream",
     "text": [
      "Using Pytorch Versions: 2.1.1+cu118  Device: cuda\n"
     ]
    }
   ],
   "source": [
    "if torch.cuda.is_available():\n",
    "    DEVICE = torch.device('cuda')\n",
    "else:\n",
    "    DEVICE = torch.device('cpu')\n",
    "\n",
    "print(\"Using Pytorch Versions:\", torch.__version__, ' Device:', DEVICE)"
   ]
  },
  {
   "cell_type": "markdown",
   "id": "d0e91aff-87cb-4208-8540-7e6c1faac3e8",
   "metadata": {},
   "source": [
    "- load partition"
   ]
  },
  {
   "cell_type": "code",
   "execution_count": 6,
   "id": "4adf9f8b-efae-44b0-8544-ab98cf59df0a",
   "metadata": {},
   "outputs": [],
   "source": [
    "partition = np.load(args.partition_path, allow_pickle=True).item()\n",
    "\n",
    "testset = partition['testset']"
   ]
  },
  {
   "cell_type": "markdown",
   "id": "8cd2908a-cf2e-45e6-8073-d45a10e4a941",
   "metadata": {},
   "source": [
    "- dataloader"
   ]
  },
  {
   "cell_type": "code",
   "execution_count": 7,
   "id": "5628704e-9e9c-45a8-a72d-ce763390c7e8",
   "metadata": {},
   "outputs": [],
   "source": [
    "batch_size = 54 # testset\n",
    "num_workers = args.num_workers"
   ]
  },
  {
   "cell_type": "code",
   "execution_count": 8,
   "id": "826f7c58-be03-48f9-bea4-30eeee8404f9",
   "metadata": {},
   "outputs": [],
   "source": [
    "dataloader_instance = PPG_Dataset(filepaths=testset, sampling_rate=args.target_sampling_rate, \n",
    "                                  min_max_norm=args.min_max_norm, z_score_norm=args.z_score_norm, interp=args.interp_method)\n",
    "dataloader = torch.utils.data.DataLoader(dataloader_instance,\n",
    "                                             batch_size = batch_size,\n",
    "                                             shuffle = None,\n",
    "                                             num_workers = num_workers,\n",
    "                                             drop_last = True,\n",
    "                                             pin_memory = True)"
   ]
  },
  {
   "cell_type": "markdown",
   "id": "0944276d-d6ab-46c2-9166-efa331964d65",
   "metadata": {},
   "source": [
    "- load model"
   ]
  },
  {
   "cell_type": "code",
   "execution_count": 9,
   "id": "6b6b17e5-8ffc-46c7-918f-efb697d2e642",
   "metadata": {
    "scrolled": true
   },
   "outputs": [
    {
     "data": {
      "text/plain": [
       "VGG(\n",
       "  (features): Sequential(\n",
       "    (0): Conv1d(2, 32, kernel_size=(3,), stride=(1,), padding=(1,))\n",
       "    (1): BatchNorm1d(32, eps=1e-05, momentum=0.1, affine=True, track_running_stats=True)\n",
       "    (2): ReLU(inplace=True)\n",
       "    (3): Conv1d(32, 32, kernel_size=(3,), stride=(1,), padding=(1,))\n",
       "    (4): BatchNorm1d(32, eps=1e-05, momentum=0.1, affine=True, track_running_stats=True)\n",
       "    (5): ReLU(inplace=True)\n",
       "    (6): MaxPool1d(kernel_size=3, stride=3, padding=0, dilation=1, ceil_mode=False)\n",
       "    (7): Conv1d(32, 64, kernel_size=(3,), stride=(1,), padding=(1,))\n",
       "    (8): BatchNorm1d(64, eps=1e-05, momentum=0.1, affine=True, track_running_stats=True)\n",
       "    (9): ReLU(inplace=True)\n",
       "    (10): Conv1d(64, 64, kernel_size=(3,), stride=(1,), padding=(1,))\n",
       "    (11): BatchNorm1d(64, eps=1e-05, momentum=0.1, affine=True, track_running_stats=True)\n",
       "    (12): ReLU(inplace=True)\n",
       "    (13): MaxPool1d(kernel_size=3, stride=3, padding=0, dilation=1, ceil_mode=False)\n",
       "    (14): Conv1d(64, 128, kernel_size=(3,), stride=(1,), padding=(1,))\n",
       "    (15): BatchNorm1d(128, eps=1e-05, momentum=0.1, affine=True, track_running_stats=True)\n",
       "    (16): ReLU(inplace=True)\n",
       "    (17): Conv1d(128, 128, kernel_size=(3,), stride=(1,), padding=(1,))\n",
       "    (18): BatchNorm1d(128, eps=1e-05, momentum=0.1, affine=True, track_running_stats=True)\n",
       "    (19): ReLU(inplace=True)\n",
       "    (20): Conv1d(128, 128, kernel_size=(3,), stride=(1,), padding=(1,))\n",
       "    (21): BatchNorm1d(128, eps=1e-05, momentum=0.1, affine=True, track_running_stats=True)\n",
       "    (22): ReLU(inplace=True)\n",
       "    (23): MaxPool1d(kernel_size=3, stride=3, padding=0, dilation=1, ceil_mode=False)\n",
       "    (24): Conv1d(128, 256, kernel_size=(3,), stride=(1,), padding=(1,))\n",
       "    (25): BatchNorm1d(256, eps=1e-05, momentum=0.1, affine=True, track_running_stats=True)\n",
       "    (26): ReLU(inplace=True)\n",
       "    (27): Conv1d(256, 256, kernel_size=(3,), stride=(1,), padding=(1,))\n",
       "    (28): BatchNorm1d(256, eps=1e-05, momentum=0.1, affine=True, track_running_stats=True)\n",
       "    (29): ReLU(inplace=True)\n",
       "    (30): Conv1d(256, 256, kernel_size=(3,), stride=(1,), padding=(1,))\n",
       "    (31): BatchNorm1d(256, eps=1e-05, momentum=0.1, affine=True, track_running_stats=True)\n",
       "    (32): ReLU(inplace=True)\n",
       "    (33): MaxPool1d(kernel_size=3, stride=3, padding=0, dilation=1, ceil_mode=False)\n",
       "    (34): Conv1d(256, 256, kernel_size=(3,), stride=(1,), padding=(1,))\n",
       "    (35): BatchNorm1d(256, eps=1e-05, momentum=0.1, affine=True, track_running_stats=True)\n",
       "    (36): ReLU(inplace=True)\n",
       "    (37): Conv1d(256, 256, kernel_size=(3,), stride=(1,), padding=(1,))\n",
       "    (38): BatchNorm1d(256, eps=1e-05, momentum=0.1, affine=True, track_running_stats=True)\n",
       "    (39): ReLU(inplace=True)\n",
       "    (40): Conv1d(256, 256, kernel_size=(3,), stride=(1,), padding=(1,))\n",
       "    (41): BatchNorm1d(256, eps=1e-05, momentum=0.1, affine=True, track_running_stats=True)\n",
       "    (42): ReLU(inplace=True)\n",
       "    (43): MaxPool1d(kernel_size=3, stride=3, padding=0, dilation=1, ceil_mode=False)\n",
       "  )\n",
       "  (flatten): Flatten(start_dim=1, end_dim=-1)\n",
       "  (classifier): Sequential(\n",
       "    (0): Linear(in_features=1280, out_features=256, bias=True)\n",
       "    (1): ReLU(inplace=True)\n",
       "    (2): Dropout(p=0.5, inplace=False)\n",
       "    (3): Linear(in_features=256, out_features=6, bias=True)\n",
       "  )\n",
       ")"
      ]
     },
     "execution_count": 9,
     "metadata": {},
     "output_type": "execute_result"
    }
   ],
   "source": [
    "cls_weight_path = args.model_save_path\n",
    "\n",
    "cls_model = vgg16_bn(in_channels=args.in_channels, num_classes=args.num_classes)\n",
    "cls_weights = torch.load(cls_weight_path)\n",
    "cls_model.load_state_dict(cls_weights)\n",
    "cls_model.to(DEVICE)\n",
    "cls_model.eval()"
   ]
  },
  {
   "cell_type": "markdown",
   "id": "3f4e8182-9df2-4476-93e1-55a2197ae440",
   "metadata": {},
   "source": [
    "- load PPG2ECG model"
   ]
  },
  {
   "cell_type": "code",
   "execution_count": 10,
   "id": "24841e11-e3fe-41ee-ad92-c8ea6739aeb3",
   "metadata": {
    "scrolled": true
   },
   "outputs": [
    {
     "data": {
      "text/plain": [
       "GeneratorResNet(\n",
       "  (model): Sequential(\n",
       "    (0): ReflectionPad1d((1, 1))\n",
       "    (1): Conv1d(1, 64, kernel_size=(7,), stride=(1,), padding=(1,))\n",
       "    (2): InstanceNorm1d(64, eps=1e-05, momentum=0.1, affine=False, track_running_stats=False)\n",
       "    (3): LeakyReLU(negative_slope=0.2, inplace=True)\n",
       "    (4): Conv1d(64, 128, kernel_size=(3,), stride=(2,), padding=(2,))\n",
       "    (5): InstanceNorm1d(128, eps=1e-05, momentum=0.1, affine=False, track_running_stats=False)\n",
       "    (6): LeakyReLU(negative_slope=0.2, inplace=True)\n",
       "    (7): Conv1d(128, 256, kernel_size=(3,), stride=(2,), padding=(2,))\n",
       "    (8): InstanceNorm1d(256, eps=1e-05, momentum=0.1, affine=False, track_running_stats=False)\n",
       "    (9): LeakyReLU(negative_slope=0.2, inplace=True)\n",
       "    (10): ResidualBlock(\n",
       "      (block): Sequential(\n",
       "        (0): ReflectionPad1d((1, 1))\n",
       "        (1): Conv1d(256, 256, kernel_size=(3,), stride=(1,))\n",
       "        (2): InstanceNorm1d(256, eps=1e-05, momentum=0.1, affine=False, track_running_stats=False)\n",
       "        (3): LeakyReLU(negative_slope=0.2, inplace=True)\n",
       "        (4): ReflectionPad1d((1, 1))\n",
       "        (5): Conv1d(256, 256, kernel_size=(3,), stride=(1,))\n",
       "        (6): InstanceNorm1d(256, eps=1e-05, momentum=0.1, affine=False, track_running_stats=False)\n",
       "      )\n",
       "    )\n",
       "    (11): ResidualBlock(\n",
       "      (block): Sequential(\n",
       "        (0): ReflectionPad1d((1, 1))\n",
       "        (1): Conv1d(256, 256, kernel_size=(3,), stride=(1,))\n",
       "        (2): InstanceNorm1d(256, eps=1e-05, momentum=0.1, affine=False, track_running_stats=False)\n",
       "        (3): LeakyReLU(negative_slope=0.2, inplace=True)\n",
       "        (4): ReflectionPad1d((1, 1))\n",
       "        (5): Conv1d(256, 256, kernel_size=(3,), stride=(1,))\n",
       "        (6): InstanceNorm1d(256, eps=1e-05, momentum=0.1, affine=False, track_running_stats=False)\n",
       "      )\n",
       "    )\n",
       "    (12): ResidualBlock(\n",
       "      (block): Sequential(\n",
       "        (0): ReflectionPad1d((1, 1))\n",
       "        (1): Conv1d(256, 256, kernel_size=(3,), stride=(1,))\n",
       "        (2): InstanceNorm1d(256, eps=1e-05, momentum=0.1, affine=False, track_running_stats=False)\n",
       "        (3): LeakyReLU(negative_slope=0.2, inplace=True)\n",
       "        (4): ReflectionPad1d((1, 1))\n",
       "        (5): Conv1d(256, 256, kernel_size=(3,), stride=(1,))\n",
       "        (6): InstanceNorm1d(256, eps=1e-05, momentum=0.1, affine=False, track_running_stats=False)\n",
       "      )\n",
       "    )\n",
       "    (13): ResidualBlock(\n",
       "      (block): Sequential(\n",
       "        (0): ReflectionPad1d((1, 1))\n",
       "        (1): Conv1d(256, 256, kernel_size=(3,), stride=(1,))\n",
       "        (2): InstanceNorm1d(256, eps=1e-05, momentum=0.1, affine=False, track_running_stats=False)\n",
       "        (3): LeakyReLU(negative_slope=0.2, inplace=True)\n",
       "        (4): ReflectionPad1d((1, 1))\n",
       "        (5): Conv1d(256, 256, kernel_size=(3,), stride=(1,))\n",
       "        (6): InstanceNorm1d(256, eps=1e-05, momentum=0.1, affine=False, track_running_stats=False)\n",
       "      )\n",
       "    )\n",
       "    (14): ResidualBlock(\n",
       "      (block): Sequential(\n",
       "        (0): ReflectionPad1d((1, 1))\n",
       "        (1): Conv1d(256, 256, kernel_size=(3,), stride=(1,))\n",
       "        (2): InstanceNorm1d(256, eps=1e-05, momentum=0.1, affine=False, track_running_stats=False)\n",
       "        (3): LeakyReLU(negative_slope=0.2, inplace=True)\n",
       "        (4): ReflectionPad1d((1, 1))\n",
       "        (5): Conv1d(256, 256, kernel_size=(3,), stride=(1,))\n",
       "        (6): InstanceNorm1d(256, eps=1e-05, momentum=0.1, affine=False, track_running_stats=False)\n",
       "      )\n",
       "    )\n",
       "    (15): ResidualBlock(\n",
       "      (block): Sequential(\n",
       "        (0): ReflectionPad1d((1, 1))\n",
       "        (1): Conv1d(256, 256, kernel_size=(3,), stride=(1,))\n",
       "        (2): InstanceNorm1d(256, eps=1e-05, momentum=0.1, affine=False, track_running_stats=False)\n",
       "        (3): LeakyReLU(negative_slope=0.2, inplace=True)\n",
       "        (4): ReflectionPad1d((1, 1))\n",
       "        (5): Conv1d(256, 256, kernel_size=(3,), stride=(1,))\n",
       "        (6): InstanceNorm1d(256, eps=1e-05, momentum=0.1, affine=False, track_running_stats=False)\n",
       "      )\n",
       "    )\n",
       "    (16): Upsample(scale_factor=2.0, mode='nearest')\n",
       "    (17): Conv1d(256, 128, kernel_size=(3,), stride=(1,), padding=(1,))\n",
       "    (18): InstanceNorm1d(128, eps=1e-05, momentum=0.1, affine=False, track_running_stats=False)\n",
       "    (19): LeakyReLU(negative_slope=0.2, inplace=True)\n",
       "    (20): Upsample(scale_factor=2.0, mode='nearest')\n",
       "    (21): Conv1d(128, 64, kernel_size=(3,), stride=(1,), padding=(1,))\n",
       "    (22): InstanceNorm1d(64, eps=1e-05, momentum=0.1, affine=False, track_running_stats=False)\n",
       "    (23): LeakyReLU(negative_slope=0.2, inplace=True)\n",
       "    (24): ReflectionPad1d((1, 1))\n",
       "    (25): Conv1d(64, 1, kernel_size=(7,), stride=(1,))\n",
       "    (26): Tanh()\n",
       "  )\n",
       ")"
      ]
     },
     "execution_count": 10,
     "metadata": {},
     "output_type": "execute_result"
    }
   ],
   "source": [
    "weights_path = './gan_weights/PPG2ECG_CycleGAN_1Epochs.pth'\n",
    "input_shape = (None, 1, int(args.target_sampling_rate * args.sig_time_len))\n",
    "n_residual_blocks = 6\n",
    "\n",
    "G_AB = GeneratorResNet(input_shape, n_residual_blocks)\n",
    "weights = torch.load(weights_path)\n",
    "G_AB.load_state_dict(weights['G_AB'])\n",
    "G_AB.to(DEVICE)\n",
    "G_AB.eval()"
   ]
  },
  {
   "cell_type": "markdown",
   "id": "944beee0-4077-40bf-ade7-7057689e8993",
   "metadata": {},
   "source": [
    "- inference"
   ]
  },
  {
   "cell_type": "code",
   "execution_count": 11,
   "id": "588e254e-a15e-446e-a125-66a89a366567",
   "metadata": {},
   "outputs": [],
   "source": [
    "z_score_norm = args.z_score_norm_rescale\n",
    "min_max_norm = args.min_max_norm_rescale"
   ]
  },
  {
   "cell_type": "code",
   "execution_count": 12,
   "id": "6513e32f-4685-415a-8175-14b56e765605",
   "metadata": {},
   "outputs": [
    {
     "data": {
      "text/plain": [
       "(False, True)"
      ]
     },
     "execution_count": 12,
     "metadata": {},
     "output_type": "execute_result"
    }
   ],
   "source": [
    "z_score_norm, min_max_norm"
   ]
  },
  {
   "cell_type": "code",
   "execution_count": 13,
   "id": "1914973b-6353-4cfc-b202-167aa1022259",
   "metadata": {},
   "outputs": [
    {
     "name": "stderr",
     "output_type": "stream",
     "text": [
      "100%|████████████████████████████████████████████████████████████████████████████████| 173/173 [00:40<00:00,  4.28it/s]\n"
     ]
    }
   ],
   "source": [
    "y_trues_list = []\n",
    "y_preds_list = []\n",
    "\n",
    "for data in tqdm(dataloader, total=len(dataloader)):    \n",
    "    with torch.no_grad():\n",
    "        # data extraction\n",
    "        ppg, label = data\n",
    "        ppg = ppg.to(DEVICE)\n",
    "        ecg = make_syn_ecg(G_AB, ppg)   \n",
    "#         ecg = make_syn_ecg_unit(E1, G2, ppg)\n",
    "        \n",
    "        # normalize\n",
    "        if z_score_norm == True and min_max_norm == False:\n",
    "            ppg = normalize_data(ppg, z_score_norm=True, min_max_norm=False)\n",
    "            ecg = normalize_data(ecg, z_score_norm=True, min_max_norm=False)\n",
    "\n",
    "        elif z_score_norm == False and min_max_norm == True:\n",
    "            ppg = normalize_data(ppg, z_score_norm=False, min_max_norm=True)\n",
    "            ecg = normalize_data(ecg, z_score_norm=False, min_max_norm=True)\n",
    "\n",
    "        elif z_score_norm == True and min_max_norm == True:\n",
    "            ppg = normalize_data(ppg, z_score_norm=True, min_max_norm=True)\n",
    "            ecg = normalize_data(ecg, z_score_norm=True, min_max_norm=True)\n",
    "\n",
    "        elif z_score_norm == False and min_max_norm == False:\n",
    "            ppg = normalize_data(ppg, z_score_norm=False, min_max_norm=False)\n",
    "            ecg = normalize_data(ecg, z_score_norm=False, min_max_norm=False)\n",
    "\n",
    "        input_data = torch.cat((ppg, ecg), 1).to(DEVICE)\n",
    "        \n",
    "        y_pred = cls_model(input_data).data.cpu().numpy()\n",
    "        y_pred_max = list(np.argmax(y_pred, -1))\n",
    "        label = list(label.data.cpu().numpy())\n",
    "        \n",
    "        y_trues_list.extend(label)\n",
    "        y_preds_list.extend(y_pred_max)"
   ]
  },
  {
   "cell_type": "markdown",
   "id": "196aa587-3f2c-4cc9-a590-67f54ee0f26e",
   "metadata": {},
   "source": [
    "- score"
   ]
  },
  {
   "cell_type": "code",
   "execution_count": 14,
   "id": "e38ad8dc-3f0b-44c1-be7d-d300f89a3ef9",
   "metadata": {},
   "outputs": [
    {
     "name": "stdout",
     "output_type": "stream",
     "text": [
      "              precision    recall  f1-score   support\n",
      "\n",
      "           0     0.9743    0.9819    0.9781      2703\n",
      "           1     0.7094    0.7879    0.7466       877\n",
      "           2     0.5117    0.4132    0.4572       847\n",
      "           3     0.8007    0.4898    0.6078       492\n",
      "           4     0.6458    0.9420    0.7663      1086\n",
      "           5     0.8660    0.7980    0.8306      3337\n",
      "\n",
      "    accuracy                         0.8159      9342\n",
      "   macro avg     0.7513    0.7355    0.7311      9342\n",
      "weighted avg     0.8215    0.8159    0.8123      9342\n",
      "\n"
     ]
    }
   ],
   "source": [
    "print(classification_report(y_trues_list, y_preds_list, digits=4))"
   ]
  }
 ],
 "metadata": {
  "kernelspec": {
   "display_name": "Python 3 (ipykernel)",
   "language": "python",
   "name": "python3"
  },
  "language_info": {
   "codemirror_mode": {
    "name": "ipython",
    "version": 3
   },
   "file_extension": ".py",
   "mimetype": "text/x-python",
   "name": "python",
   "nbconvert_exporter": "python",
   "pygments_lexer": "ipython3",
   "version": "3.8.18"
  }
 },
 "nbformat": 4,
 "nbformat_minor": 5
}
