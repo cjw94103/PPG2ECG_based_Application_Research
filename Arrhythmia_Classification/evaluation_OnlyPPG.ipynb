{
 "cells": [
  {
   "cell_type": "code",
   "execution_count": 1,
   "id": "092fa01e-c602-490e-940b-91eab137fa82",
   "metadata": {},
   "outputs": [],
   "source": [
    "import numpy as np\n",
    "import torch\n",
    "import glob\n",
    "import sklearn.preprocessing as skp\n",
    "\n",
    "from dataset import PPG_Dataset\n",
    "from models import vgg16_bn\n",
    "from sklearn.metrics import classification_report\n",
    "from tqdm import tqdm\n",
    "from make_args import Args"
   ]
  },
  {
   "cell_type": "markdown",
   "id": "a463783b-8214-4f15-9cd6-92a1a5a6ac51",
   "metadata": {},
   "source": [
    "- args"
   ]
  },
  {
   "cell_type": "code",
   "execution_count": 2,
   "id": "ac50a633-59dd-4e4a-9816-88195620d23e",
   "metadata": {},
   "outputs": [],
   "source": [
    "args = Args('./config/VGG16_OnlyPPG.json')"
   ]
  },
  {
   "cell_type": "markdown",
   "id": "b97d89ef-8258-4377-8bff-8842d31bdb7d",
   "metadata": {},
   "source": [
    "- 필요 함수"
   ]
  },
  {
   "cell_type": "code",
   "execution_count": 3,
   "id": "243eb1d0-dabb-404b-ba26-c17898bf3d58",
   "metadata": {},
   "outputs": [],
   "source": [
    "def normalize_data(data, z_score_norm=True, min_max_norm=False):\n",
    "    norm_data = []\n",
    "    data = data.data.cpu().numpy()\n",
    "\n",
    "    for i in range(len(data)):\n",
    "        target_data = data[i].copy()\n",
    "        if z_score_norm:\n",
    "            target_data = (target_data - target_data.mean()) / (target_data.std() + 1e-17)\n",
    "        if min_max_norm:\n",
    "            target_data = skp.minmax_scale(target_data, (-1, 1), axis=1)\n",
    "        norm_data.append(target_data)\n",
    "\n",
    "    return torch.from_numpy(np.array(norm_data)).type(torch.FloatTensor)"
   ]
  },
  {
   "cell_type": "markdown",
   "id": "9f328cfa-6daa-4dcb-b851-3d9bbe894639",
   "metadata": {},
   "source": [
    "- Define Device"
   ]
  },
  {
   "cell_type": "code",
   "execution_count": 4,
   "id": "f97a63c4-df26-48f1-b81e-6c33cc89f26d",
   "metadata": {},
   "outputs": [
    {
     "name": "stdout",
     "output_type": "stream",
     "text": [
      "Using Pytorch Versions: 2.1.1+cu118  Device: cuda\n"
     ]
    }
   ],
   "source": [
    "if torch.cuda.is_available():\n",
    "    DEVICE = torch.device('cuda')\n",
    "else:\n",
    "    DEVICE = torch.device('cpu')\n",
    "\n",
    "print(\"Using Pytorch Versions:\", torch.__version__, ' Device:', DEVICE)"
   ]
  },
  {
   "cell_type": "markdown",
   "id": "a7817333-3d4a-4da5-8a1e-6eedd1688aca",
   "metadata": {},
   "source": [
    "- load partition"
   ]
  },
  {
   "cell_type": "code",
   "execution_count": 5,
   "id": "7fc24a0e-96f4-4d6f-a154-26488c6fbde7",
   "metadata": {},
   "outputs": [],
   "source": [
    "partition = np.load(args.partition_path, allow_pickle=True).item()\n",
    "\n",
    "testset = partition['testset']"
   ]
  },
  {
   "cell_type": "markdown",
   "id": "39d59c42-d376-44f7-8b53-898f2da2ad2d",
   "metadata": {},
   "source": [
    "- dataloader"
   ]
  },
  {
   "cell_type": "code",
   "execution_count": 6,
   "id": "f492ff78-08f0-4879-bb07-ee9f231126be",
   "metadata": {},
   "outputs": [],
   "source": [
    "batch_size = 54 # testset\n",
    "num_workers = args.num_workers"
   ]
  },
  {
   "cell_type": "code",
   "execution_count": 7,
   "id": "b4c89389-9b48-450f-8478-d5c5164d7e5d",
   "metadata": {},
   "outputs": [],
   "source": [
    "dataloader_instance = PPG_Dataset(filepaths=testset, sampling_rate=args.target_sampling_rate, \n",
    "                                  min_max_norm=args.min_max_norm, z_score_norm=args.z_score_norm, interp=args.interp_method)\n",
    "dataloader = torch.utils.data.DataLoader(dataloader_instance,\n",
    "                                             batch_size = batch_size,\n",
    "                                             shuffle = None,\n",
    "                                             num_workers = num_workers,\n",
    "                                             drop_last = True,\n",
    "                                             pin_memory = True)"
   ]
  },
  {
   "cell_type": "markdown",
   "id": "c6b3dedd-0d7c-40fb-a8cf-06d1bd6a1216",
   "metadata": {},
   "source": [
    "- load model"
   ]
  },
  {
   "cell_type": "code",
   "execution_count": 8,
   "id": "a8224a55-148f-42b5-946a-b4efdec05759",
   "metadata": {
    "scrolled": true
   },
   "outputs": [
    {
     "data": {
      "text/plain": [
       "VGG(\n",
       "  (features): Sequential(\n",
       "    (0): Conv1d(1, 32, kernel_size=(3,), stride=(1,), padding=(1,))\n",
       "    (1): BatchNorm1d(32, eps=1e-05, momentum=0.1, affine=True, track_running_stats=True)\n",
       "    (2): ReLU(inplace=True)\n",
       "    (3): Conv1d(32, 32, kernel_size=(3,), stride=(1,), padding=(1,))\n",
       "    (4): BatchNorm1d(32, eps=1e-05, momentum=0.1, affine=True, track_running_stats=True)\n",
       "    (5): ReLU(inplace=True)\n",
       "    (6): MaxPool1d(kernel_size=3, stride=3, padding=0, dilation=1, ceil_mode=False)\n",
       "    (7): Conv1d(32, 64, kernel_size=(3,), stride=(1,), padding=(1,))\n",
       "    (8): BatchNorm1d(64, eps=1e-05, momentum=0.1, affine=True, track_running_stats=True)\n",
       "    (9): ReLU(inplace=True)\n",
       "    (10): Conv1d(64, 64, kernel_size=(3,), stride=(1,), padding=(1,))\n",
       "    (11): BatchNorm1d(64, eps=1e-05, momentum=0.1, affine=True, track_running_stats=True)\n",
       "    (12): ReLU(inplace=True)\n",
       "    (13): MaxPool1d(kernel_size=3, stride=3, padding=0, dilation=1, ceil_mode=False)\n",
       "    (14): Conv1d(64, 128, kernel_size=(3,), stride=(1,), padding=(1,))\n",
       "    (15): BatchNorm1d(128, eps=1e-05, momentum=0.1, affine=True, track_running_stats=True)\n",
       "    (16): ReLU(inplace=True)\n",
       "    (17): Conv1d(128, 128, kernel_size=(3,), stride=(1,), padding=(1,))\n",
       "    (18): BatchNorm1d(128, eps=1e-05, momentum=0.1, affine=True, track_running_stats=True)\n",
       "    (19): ReLU(inplace=True)\n",
       "    (20): Conv1d(128, 128, kernel_size=(3,), stride=(1,), padding=(1,))\n",
       "    (21): BatchNorm1d(128, eps=1e-05, momentum=0.1, affine=True, track_running_stats=True)\n",
       "    (22): ReLU(inplace=True)\n",
       "    (23): MaxPool1d(kernel_size=3, stride=3, padding=0, dilation=1, ceil_mode=False)\n",
       "    (24): Conv1d(128, 256, kernel_size=(3,), stride=(1,), padding=(1,))\n",
       "    (25): BatchNorm1d(256, eps=1e-05, momentum=0.1, affine=True, track_running_stats=True)\n",
       "    (26): ReLU(inplace=True)\n",
       "    (27): Conv1d(256, 256, kernel_size=(3,), stride=(1,), padding=(1,))\n",
       "    (28): BatchNorm1d(256, eps=1e-05, momentum=0.1, affine=True, track_running_stats=True)\n",
       "    (29): ReLU(inplace=True)\n",
       "    (30): Conv1d(256, 256, kernel_size=(3,), stride=(1,), padding=(1,))\n",
       "    (31): BatchNorm1d(256, eps=1e-05, momentum=0.1, affine=True, track_running_stats=True)\n",
       "    (32): ReLU(inplace=True)\n",
       "    (33): MaxPool1d(kernel_size=3, stride=3, padding=0, dilation=1, ceil_mode=False)\n",
       "    (34): Conv1d(256, 256, kernel_size=(3,), stride=(1,), padding=(1,))\n",
       "    (35): BatchNorm1d(256, eps=1e-05, momentum=0.1, affine=True, track_running_stats=True)\n",
       "    (36): ReLU(inplace=True)\n",
       "    (37): Conv1d(256, 256, kernel_size=(3,), stride=(1,), padding=(1,))\n",
       "    (38): BatchNorm1d(256, eps=1e-05, momentum=0.1, affine=True, track_running_stats=True)\n",
       "    (39): ReLU(inplace=True)\n",
       "    (40): Conv1d(256, 256, kernel_size=(3,), stride=(1,), padding=(1,))\n",
       "    (41): BatchNorm1d(256, eps=1e-05, momentum=0.1, affine=True, track_running_stats=True)\n",
       "    (42): ReLU(inplace=True)\n",
       "    (43): MaxPool1d(kernel_size=3, stride=3, padding=0, dilation=1, ceil_mode=False)\n",
       "  )\n",
       "  (flatten): Flatten(start_dim=1, end_dim=-1)\n",
       "  (classifier): Sequential(\n",
       "    (0): Linear(in_features=1280, out_features=256, bias=True)\n",
       "    (1): ReLU(inplace=True)\n",
       "    (2): Dropout(p=0.5, inplace=False)\n",
       "    (3): Linear(in_features=256, out_features=6, bias=True)\n",
       "  )\n",
       ")"
      ]
     },
     "execution_count": 8,
     "metadata": {},
     "output_type": "execute_result"
    }
   ],
   "source": [
    "cls_weight_path = args.model_save_path\n",
    "\n",
    "cls_model = vgg16_bn(in_channels=args.in_channels, num_classes=args.num_classes)\n",
    "cls_weights = torch.load(cls_weight_path)\n",
    "cls_model.load_state_dict(cls_weights)\n",
    "cls_model.to(DEVICE)\n",
    "cls_model.eval()"
   ]
  },
  {
   "cell_type": "markdown",
   "id": "63a5b105-7c20-4cce-b93b-a2565a9ed3ba",
   "metadata": {},
   "source": [
    "- inference"
   ]
  },
  {
   "cell_type": "code",
   "execution_count": 9,
   "id": "e7d6df9b-2b14-400e-91da-e8c71b7ebd8a",
   "metadata": {},
   "outputs": [],
   "source": [
    "z_score_norm = args.z_score_norm_rescale\n",
    "min_max_norm = args.min_max_norm_rescale"
   ]
  },
  {
   "cell_type": "code",
   "execution_count": 10,
   "id": "7f1ebb0f-b12e-413c-b9e5-c6b90becf6f0",
   "metadata": {},
   "outputs": [
    {
     "name": "stderr",
     "output_type": "stream",
     "text": [
      "100%|████████████████████████████████████████████████████████████████████████████████| 173/173 [00:32<00:00,  5.36it/s]\n"
     ]
    }
   ],
   "source": [
    "y_trues_list = []\n",
    "y_preds_list = []\n",
    "\n",
    "for data in tqdm(dataloader, total=len(dataloader)):    \n",
    "    with torch.no_grad():\n",
    "        # data extraction\n",
    "        ppg, label = data\n",
    "        ppg = ppg.to(DEVICE)\n",
    "        \n",
    "        # normalize\n",
    "        if z_score_norm == True and min_max_norm == False:\n",
    "            ppg = normalize_data(ppg, z_score_norm=True, min_max_norm=False)\n",
    "\n",
    "        elif z_score_norm == False and min_max_norm == True:\n",
    "            ppg = normalize_data(ppg, z_score_norm=False, min_max_norm=True)\n",
    "\n",
    "        elif z_score_norm == True and min_max_norm == True:\n",
    "            ppg = normalize_data(ppg, z_score_norm=True, min_max_norm=True)\n",
    "\n",
    "        elif z_score_norm == False and min_max_norm == False:\n",
    "            ppg = normalize_data(ppg, z_score_norm=False, min_max_norm=False)\n",
    "\n",
    "        input_data = ppg.to(DEVICE)\n",
    "        \n",
    "        y_pred = cls_model(input_data).data.cpu().numpy()\n",
    "        y_pred_max = list(np.argmax(y_pred, -1))\n",
    "        label = list(label.data.cpu().numpy())\n",
    "        \n",
    "        y_trues_list.extend(label)\n",
    "        y_preds_list.extend(y_pred_max)"
   ]
  },
  {
   "cell_type": "markdown",
   "id": "863a2092-c347-4165-9133-77c353c8eed5",
   "metadata": {},
   "source": [
    "- score"
   ]
  },
  {
   "cell_type": "code",
   "execution_count": 11,
   "id": "3c025f9e-a726-40b1-ae20-331282212028",
   "metadata": {},
   "outputs": [
    {
     "name": "stdout",
     "output_type": "stream",
     "text": [
      "              precision    recall  f1-score   support\n",
      "\n",
      "           0     0.9698    0.9741    0.9719      2703\n",
      "           1     0.6440    0.6153    0.6293       876\n",
      "           2     0.4631    0.3778    0.4161       847\n",
      "           3     0.6409    0.6240    0.6323       492\n",
      "           4     0.7428    0.8775    0.8046      1086\n",
      "           5     0.8634    0.8631    0.8632      3338\n",
      "\n",
      "    accuracy                         0.8171      9342\n",
      "   macro avg     0.7207    0.7220    0.7196      9342\n",
      "weighted avg     0.8116    0.8171    0.8132      9342\n",
      "\n"
     ]
    }
   ],
   "source": [
    "print(classification_report(y_trues_list, y_preds_list, digits=4))"
   ]
  }
 ],
 "metadata": {
  "kernelspec": {
   "display_name": "Python 3 (ipykernel)",
   "language": "python",
   "name": "python3"
  },
  "language_info": {
   "codemirror_mode": {
    "name": "ipython",
    "version": 3
   },
   "file_extension": ".py",
   "mimetype": "text/x-python",
   "name": "python",
   "nbconvert_exporter": "python",
   "pygments_lexer": "ipython3",
   "version": "3.8.18"
  }
 },
 "nbformat": 4,
 "nbformat_minor": 5
}
