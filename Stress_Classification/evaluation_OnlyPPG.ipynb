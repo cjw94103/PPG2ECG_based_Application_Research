{
 "cells": [
  {
   "cell_type": "code",
   "execution_count": 1,
   "id": "ed5c514e-3718-48e6-8c10-cd3ec8f9d6e4",
   "metadata": {},
   "outputs": [],
   "source": [
    "import numpy as np\n",
    "import torch\n",
    "import glob\n",
    "import sklearn.preprocessing as skp\n",
    "\n",
    "from dataset import PPG_Dataset\n",
    "from models import vgg16_bn\n",
    "from sklearn.metrics import classification_report\n",
    "from tqdm import tqdm\n",
    "from make_args import Args"
   ]
  },
  {
   "cell_type": "markdown",
   "id": "a7d793c9-5f28-49ae-8f9f-800b55274031",
   "metadata": {},
   "source": [
    "- args"
   ]
  },
  {
   "cell_type": "code",
   "execution_count": 2,
   "id": "d640f3ab-60cf-4877-811b-f61ce7a84313",
   "metadata": {},
   "outputs": [],
   "source": [
    "args = Args('./config/VGG16_OnlyPPG.json')"
   ]
  },
  {
   "cell_type": "markdown",
   "id": "b54f5684-211f-4f40-837f-18ed4690fb74",
   "metadata": {},
   "source": [
    "- 필요 함수"
   ]
  },
  {
   "cell_type": "code",
   "execution_count": 3,
   "id": "61423327-329f-4997-af76-5b3867b9e88b",
   "metadata": {},
   "outputs": [],
   "source": [
    "def normalize_data(data, z_score_norm=True, min_max_norm=False):\n",
    "    norm_data = []\n",
    "    data = data.data.cpu().numpy()\n",
    "\n",
    "    for i in range(len(data)):\n",
    "        target_data = data[i].copy()\n",
    "        if z_score_norm:\n",
    "            target_data = (target_data - target_data.mean()) / (target_data.std() + 1e-17)\n",
    "        if min_max_norm:\n",
    "            target_data = skp.minmax_scale(target_data, (-1, 1), axis=1)\n",
    "        norm_data.append(target_data)\n",
    "\n",
    "    return torch.from_numpy(np.array(norm_data)).type(torch.FloatTensor)"
   ]
  },
  {
   "cell_type": "markdown",
   "id": "79549ec4-b09b-4d4f-bae9-4b07956bc5da",
   "metadata": {},
   "source": [
    "- Define Device"
   ]
  },
  {
   "cell_type": "code",
   "execution_count": 4,
   "id": "bb8204cf-4c8c-4b95-9224-b319cc4cb78b",
   "metadata": {},
   "outputs": [
    {
     "name": "stdout",
     "output_type": "stream",
     "text": [
      "Using Pytorch Versions: 2.1.1+cu118  Device: cuda\n"
     ]
    }
   ],
   "source": [
    "if torch.cuda.is_available():\n",
    "    DEVICE = torch.device('cuda')\n",
    "else:\n",
    "    DEVICE = torch.device('cpu')\n",
    "\n",
    "print(\"Using Pytorch Versions:\", torch.__version__, ' Device:', DEVICE)"
   ]
  },
  {
   "cell_type": "markdown",
   "id": "3701e5c3-b139-4e3f-8fb9-c8c91de03aea",
   "metadata": {},
   "source": [
    "- load partition"
   ]
  },
  {
   "cell_type": "code",
   "execution_count": 5,
   "id": "7d49b378-cca5-473f-ab23-adb755834976",
   "metadata": {},
   "outputs": [],
   "source": [
    "partition = np.load(args.partition_path, allow_pickle=True).item()\n",
    "\n",
    "testset = partition['testset']"
   ]
  },
  {
   "cell_type": "code",
   "execution_count": 6,
   "id": "d169d583-0e5b-46c0-a012-c4e572733178",
   "metadata": {},
   "outputs": [
    {
     "data": {
      "text/plain": [
       "165"
      ]
     },
     "execution_count": 6,
     "metadata": {},
     "output_type": "execute_result"
    }
   ],
   "source": [
    "len(testset)"
   ]
  },
  {
   "cell_type": "markdown",
   "id": "a18ea65d-750d-4097-9491-3452ecdbe67a",
   "metadata": {},
   "source": [
    "- dataloader"
   ]
  },
  {
   "cell_type": "code",
   "execution_count": 7,
   "id": "82177eaf-aed9-4a3b-a611-1eb7dc43a570",
   "metadata": {},
   "outputs": [],
   "source": [
    "batch_size = 33 # testset\n",
    "num_workers = args.num_workers"
   ]
  },
  {
   "cell_type": "code",
   "execution_count": 8,
   "id": "919aff15-04d4-43da-97b0-dd7994d7ef9d",
   "metadata": {},
   "outputs": [],
   "source": [
    "dataloader_instance = PPG_Dataset(filepaths=testset, sampling_rate=args.target_sampling_rate, \n",
    "                                  min_max_norm=args.min_max_norm, z_score_norm=args.z_score_norm, interp=args.interp_method)\n",
    "dataloader = torch.utils.data.DataLoader(dataloader_instance,\n",
    "                                             batch_size = batch_size,\n",
    "                                             shuffle = None,\n",
    "                                             num_workers = num_workers,\n",
    "                                             drop_last = True,\n",
    "                                             pin_memory = True)"
   ]
  },
  {
   "cell_type": "markdown",
   "id": "76d7b1ac-6062-4603-b694-e97739f5778d",
   "metadata": {},
   "source": [
    "- load model"
   ]
  },
  {
   "cell_type": "code",
   "execution_count": 9,
   "id": "37e1b257-086f-4a60-a9cb-19630213bffc",
   "metadata": {
    "scrolled": true
   },
   "outputs": [
    {
     "data": {
      "text/plain": [
       "VGG(\n",
       "  (features): Sequential(\n",
       "    (0): Conv1d(1, 32, kernel_size=(3,), stride=(1,), padding=(1,))\n",
       "    (1): BatchNorm1d(32, eps=1e-05, momentum=0.1, affine=True, track_running_stats=True)\n",
       "    (2): ReLU(inplace=True)\n",
       "    (3): Conv1d(32, 32, kernel_size=(3,), stride=(1,), padding=(1,))\n",
       "    (4): BatchNorm1d(32, eps=1e-05, momentum=0.1, affine=True, track_running_stats=True)\n",
       "    (5): ReLU(inplace=True)\n",
       "    (6): MaxPool1d(kernel_size=3, stride=3, padding=0, dilation=1, ceil_mode=False)\n",
       "    (7): Conv1d(32, 64, kernel_size=(3,), stride=(1,), padding=(1,))\n",
       "    (8): BatchNorm1d(64, eps=1e-05, momentum=0.1, affine=True, track_running_stats=True)\n",
       "    (9): ReLU(inplace=True)\n",
       "    (10): Conv1d(64, 64, kernel_size=(3,), stride=(1,), padding=(1,))\n",
       "    (11): BatchNorm1d(64, eps=1e-05, momentum=0.1, affine=True, track_running_stats=True)\n",
       "    (12): ReLU(inplace=True)\n",
       "    (13): MaxPool1d(kernel_size=3, stride=3, padding=0, dilation=1, ceil_mode=False)\n",
       "    (14): Conv1d(64, 128, kernel_size=(3,), stride=(1,), padding=(1,))\n",
       "    (15): BatchNorm1d(128, eps=1e-05, momentum=0.1, affine=True, track_running_stats=True)\n",
       "    (16): ReLU(inplace=True)\n",
       "    (17): Conv1d(128, 128, kernel_size=(3,), stride=(1,), padding=(1,))\n",
       "    (18): BatchNorm1d(128, eps=1e-05, momentum=0.1, affine=True, track_running_stats=True)\n",
       "    (19): ReLU(inplace=True)\n",
       "    (20): Conv1d(128, 128, kernel_size=(3,), stride=(1,), padding=(1,))\n",
       "    (21): BatchNorm1d(128, eps=1e-05, momentum=0.1, affine=True, track_running_stats=True)\n",
       "    (22): ReLU(inplace=True)\n",
       "    (23): MaxPool1d(kernel_size=3, stride=3, padding=0, dilation=1, ceil_mode=False)\n",
       "    (24): Conv1d(128, 256, kernel_size=(3,), stride=(1,), padding=(1,))\n",
       "    (25): BatchNorm1d(256, eps=1e-05, momentum=0.1, affine=True, track_running_stats=True)\n",
       "    (26): ReLU(inplace=True)\n",
       "    (27): Conv1d(256, 256, kernel_size=(3,), stride=(1,), padding=(1,))\n",
       "    (28): BatchNorm1d(256, eps=1e-05, momentum=0.1, affine=True, track_running_stats=True)\n",
       "    (29): ReLU(inplace=True)\n",
       "    (30): Conv1d(256, 256, kernel_size=(3,), stride=(1,), padding=(1,))\n",
       "    (31): BatchNorm1d(256, eps=1e-05, momentum=0.1, affine=True, track_running_stats=True)\n",
       "    (32): ReLU(inplace=True)\n",
       "    (33): MaxPool1d(kernel_size=3, stride=3, padding=0, dilation=1, ceil_mode=False)\n",
       "    (34): Conv1d(256, 256, kernel_size=(3,), stride=(1,), padding=(1,))\n",
       "    (35): BatchNorm1d(256, eps=1e-05, momentum=0.1, affine=True, track_running_stats=True)\n",
       "    (36): ReLU(inplace=True)\n",
       "    (37): Conv1d(256, 256, kernel_size=(3,), stride=(1,), padding=(1,))\n",
       "    (38): BatchNorm1d(256, eps=1e-05, momentum=0.1, affine=True, track_running_stats=True)\n",
       "    (39): ReLU(inplace=True)\n",
       "    (40): Conv1d(256, 256, kernel_size=(3,), stride=(1,), padding=(1,))\n",
       "    (41): BatchNorm1d(256, eps=1e-05, momentum=0.1, affine=True, track_running_stats=True)\n",
       "    (42): ReLU(inplace=True)\n",
       "    (43): MaxPool1d(kernel_size=3, stride=3, padding=0, dilation=1, ceil_mode=False)\n",
       "  )\n",
       "  (flatten): Flatten(start_dim=1, end_dim=-1)\n",
       "  (classifier): Sequential(\n",
       "    (0): Linear(in_features=3840, out_features=256, bias=True)\n",
       "    (1): ReLU(inplace=True)\n",
       "    (2): Dropout(p=0.5, inplace=False)\n",
       "    (3): Linear(in_features=256, out_features=2, bias=True)\n",
       "  )\n",
       ")"
      ]
     },
     "execution_count": 9,
     "metadata": {},
     "output_type": "execute_result"
    }
   ],
   "source": [
    "cls_weight_path = args.model_save_path\n",
    "\n",
    "cls_model = vgg16_bn(in_channels=args.in_channels, num_classes=args.num_classes)\n",
    "cls_weights = torch.load(cls_weight_path)\n",
    "cls_model.load_state_dict(cls_weights)\n",
    "cls_model.to(DEVICE)\n",
    "cls_model.eval()"
   ]
  },
  {
   "cell_type": "markdown",
   "id": "415179b1-487b-41cf-bc62-2380bfeacba9",
   "metadata": {},
   "source": [
    "- inference"
   ]
  },
  {
   "cell_type": "code",
   "execution_count": 10,
   "id": "9414a561-cfb2-49a5-96b3-6e5d93b05d82",
   "metadata": {},
   "outputs": [],
   "source": [
    "z_score_norm = args.z_score_norm_rescale\n",
    "min_max_norm = args.min_max_norm_rescale"
   ]
  },
  {
   "cell_type": "code",
   "execution_count": 11,
   "id": "ef702096-f35e-43ef-872e-6deae23ac1ca",
   "metadata": {},
   "outputs": [
    {
     "name": "stderr",
     "output_type": "stream",
     "text": [
      "100%|████████████████████████████████████████████████████████████████████████████████████| 5/5 [00:04<00:00,  1.16it/s]\n"
     ]
    }
   ],
   "source": [
    "y_trues_list = []\n",
    "y_preds_list = []\n",
    "\n",
    "for data in tqdm(dataloader, total=len(dataloader)):    \n",
    "    with torch.no_grad():\n",
    "        # data extraction\n",
    "        ppg, label = data\n",
    "        ppg = ppg.to(DEVICE)\n",
    "        \n",
    "        # normalize\n",
    "        if z_score_norm == True and min_max_norm == False:\n",
    "            ppg = normalize_data(ppg, z_score_norm=True, min_max_norm=False)\n",
    "\n",
    "        elif z_score_norm == False and min_max_norm == True:\n",
    "            ppg = normalize_data(ppg, z_score_norm=False, min_max_norm=True)\n",
    "\n",
    "        elif z_score_norm == True and min_max_norm == True:\n",
    "            ppg = normalize_data(ppg, z_score_norm=True, min_max_norm=True)\n",
    "\n",
    "        elif z_score_norm == False and min_max_norm == False:\n",
    "            ppg = normalize_data(ppg, z_score_norm=False, min_max_norm=False)\n",
    "\n",
    "        input_data = ppg.to(DEVICE)\n",
    "        \n",
    "        y_pred = cls_model(input_data).data.cpu().numpy()\n",
    "        y_pred_max = list(np.argmax(y_pred, -1))\n",
    "        label = list(label.data.cpu().numpy())\n",
    "        \n",
    "        y_trues_list.extend(label)\n",
    "        y_preds_list.extend(y_pred_max)"
   ]
  },
  {
   "cell_type": "markdown",
   "id": "4e9d47bc-f5bf-4ec7-8a47-bdbdd9740da1",
   "metadata": {},
   "source": [
    "- score"
   ]
  },
  {
   "cell_type": "code",
   "execution_count": 12,
   "id": "bef7c3c9-6459-4435-8cf9-a4b96bb185e9",
   "metadata": {},
   "outputs": [
    {
     "name": "stdout",
     "output_type": "stream",
     "text": [
      "              precision    recall  f1-score   support\n",
      "\n",
      "           0     0.9675    0.9225    0.9444       129\n",
      "           1     0.7619    0.8889    0.8205        36\n",
      "\n",
      "    accuracy                         0.9152       165\n",
      "   macro avg     0.8647    0.9057    0.8825       165\n",
      "weighted avg     0.9226    0.9152    0.9174       165\n",
      "\n"
     ]
    }
   ],
   "source": [
    "print(classification_report(y_trues_list, y_preds_list, digits=4))"
   ]
  }
 ],
 "metadata": {
  "kernelspec": {
   "display_name": "Python 3 (ipykernel)",
   "language": "python",
   "name": "python3"
  },
  "language_info": {
   "codemirror_mode": {
    "name": "ipython",
    "version": 3
   },
   "file_extension": ".py",
   "mimetype": "text/x-python",
   "name": "python",
   "nbconvert_exporter": "python",
   "pygments_lexer": "ipython3",
   "version": "3.8.18"
  }
 },
 "nbformat": 4,
 "nbformat_minor": 5
}
