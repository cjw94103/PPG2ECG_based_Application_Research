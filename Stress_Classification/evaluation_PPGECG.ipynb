{
 "cells": [
  {
   "cell_type": "code",
   "execution_count": 1,
   "id": "aea2dc82-2210-4373-b818-dd259ab8157f",
   "metadata": {},
   "outputs": [],
   "source": [
    "import numpy as np\n",
    "import torch\n",
    "import glob\n",
    "import sklearn.preprocessing as skp\n",
    "\n",
    "from dataset import PPG_Dataset\n",
    "from models import vgg16_bn\n",
    "from gan_models import GeneratorResNet\n",
    "from sklearn.metrics import classification_report\n",
    "from scipy.interpolate import splrep, splev\n",
    "from tqdm import tqdm\n",
    "from make_args import Args"
   ]
  },
  {
   "cell_type": "markdown",
   "id": "a468268b-e606-4bb7-b0d5-823d4e4e5910",
   "metadata": {},
   "source": [
    "- args"
   ]
  },
  {
   "cell_type": "code",
   "execution_count": 2,
   "id": "a1dd250f-1480-42ec-981a-48e174a7d334",
   "metadata": {},
   "outputs": [],
   "source": [
    "args = Args('./config/VGG16_PPGECG.json')"
   ]
  },
  {
   "cell_type": "markdown",
   "id": "a29c5b13-75e3-4d01-94c7-951a1283f33e",
   "metadata": {},
   "source": [
    "- 필요 함수"
   ]
  },
  {
   "cell_type": "code",
   "execution_count": 3,
   "id": "ee82674d-abf2-497e-b212-8987e42c5e79",
   "metadata": {},
   "outputs": [],
   "source": [
    "def make_syn_ecg(G_AB, input_ppg):\n",
    "    with torch.no_grad():\n",
    "        syn_ecg = G_AB(input_ppg)\n",
    "\n",
    "    return syn_ecg"
   ]
  },
  {
   "cell_type": "code",
   "execution_count": 4,
   "id": "2124267d-bb51-4008-b954-2edbfe8b4598",
   "metadata": {},
   "outputs": [],
   "source": [
    "def normalize_data(data, z_score_norm=True, min_max_norm=False):\n",
    "    norm_data = []\n",
    "    data = data.data.cpu().numpy()\n",
    "\n",
    "    for i in range(len(data)):\n",
    "        target_data = data[i].copy()\n",
    "        if z_score_norm:\n",
    "            target_data = (target_data - target_data.mean()) / (target_data.std() + 1e-17)\n",
    "        if min_max_norm:\n",
    "            target_data = skp.minmax_scale(target_data, (-1, 1), axis=1)\n",
    "        norm_data.append(target_data)\n",
    "\n",
    "    return torch.from_numpy(np.array(norm_data)).type(torch.FloatTensor)"
   ]
  },
  {
   "cell_type": "code",
   "execution_count": 5,
   "id": "52be306b-164b-4304-b798-1d4c63a4100a",
   "metadata": {},
   "outputs": [],
   "source": [
    "def interp_spline(ecg, step=1, k=3):\n",
    "    x_new = np.arange(0, ecg.shape[0], ecg.shape[0]/step)\n",
    "    interp_spline_method = splrep(np.arange(0, ecg.shape[0], 1), ecg, k=k)\n",
    "    return splev(x_new, interp_spline_method)"
   ]
  },
  {
   "cell_type": "code",
   "execution_count": 6,
   "id": "86312f4f-9993-477b-ba5e-e23a1866122d",
   "metadata": {},
   "outputs": [],
   "source": [
    "def batch_signal_downsample(batch_signal, fs, target_fs):\n",
    "    batch_signal = batch_signal.data.cpu().numpy()\n",
    "    sig_seconds = batch_signal.shape[2] // fs\n",
    "    \n",
    "    interp_signals = []\n",
    "    for i in range(len(batch_signal)):\n",
    "        interp_signal = interp_spline(batch_signal[i][0], step=target_fs*sig_seconds, k=5)\n",
    "        interp_signals.append(interp_signal)\n",
    "    interp_signals = np.array(interp_signals)\n",
    "    \n",
    "    return torch.from_numpy(interp_signals).type(torch.FloatTensor).unsqueeze(1)"
   ]
  },
  {
   "cell_type": "markdown",
   "id": "c3910aba-13f4-40e2-b674-fba550986e90",
   "metadata": {},
   "source": [
    "- Define Device"
   ]
  },
  {
   "cell_type": "code",
   "execution_count": 7,
   "id": "382b6280-56ed-4293-9c4b-1d2fefd8a56c",
   "metadata": {},
   "outputs": [
    {
     "name": "stdout",
     "output_type": "stream",
     "text": [
      "Using Pytorch Versions: 2.1.1+cu118  Device: cuda\n"
     ]
    }
   ],
   "source": [
    "if torch.cuda.is_available():\n",
    "    DEVICE = torch.device('cuda')\n",
    "else:\n",
    "    DEVICE = torch.device('cpu')\n",
    "\n",
    "print(\"Using Pytorch Versions:\", torch.__version__, ' Device:', DEVICE)"
   ]
  },
  {
   "cell_type": "markdown",
   "id": "87856e88-ea90-4411-8e11-213dce8b3be2",
   "metadata": {},
   "source": [
    "- load partition"
   ]
  },
  {
   "cell_type": "code",
   "execution_count": 8,
   "id": "cd0b06d5-f220-4233-a39a-15fd369067ef",
   "metadata": {},
   "outputs": [],
   "source": [
    "partition = np.load(args.partition_path, allow_pickle=True).item()\n",
    "\n",
    "testset = partition['testset']"
   ]
  },
  {
   "cell_type": "markdown",
   "id": "f2c22791-01dc-4b71-9562-897b7ee10d94",
   "metadata": {},
   "source": [
    "- dataloader"
   ]
  },
  {
   "cell_type": "code",
   "execution_count": 9,
   "id": "94e3606e-e672-4219-99bf-ba8f74a898f0",
   "metadata": {},
   "outputs": [],
   "source": [
    "batch_size = 33 # testset\n",
    "num_workers = args.num_workers"
   ]
  },
  {
   "cell_type": "code",
   "execution_count": 10,
   "id": "39b847de-a1f9-414f-bc12-91f96a537a4e",
   "metadata": {},
   "outputs": [],
   "source": [
    "dataloader_instance = PPG_Dataset(filepaths=testset, sampling_rate=args.target_sampling_rate, \n",
    "                                  min_max_norm=args.min_max_norm, z_score_norm=args.z_score_norm, interp=args.interp_method)\n",
    "dataloader = torch.utils.data.DataLoader(dataloader_instance,\n",
    "                                             batch_size = batch_size,\n",
    "                                             shuffle = None,\n",
    "                                             num_workers = num_workers,\n",
    "                                             drop_last = True,\n",
    "                                             pin_memory = True)"
   ]
  },
  {
   "cell_type": "markdown",
   "id": "5964d47e-714d-4824-b330-735670b7527d",
   "metadata": {},
   "source": [
    "- load model"
   ]
  },
  {
   "cell_type": "code",
   "execution_count": 11,
   "id": "3b7e44dd-851b-4ad2-804c-d54d256c0ac0",
   "metadata": {
    "scrolled": true
   },
   "outputs": [
    {
     "data": {
      "text/plain": [
       "VGG(\n",
       "  (features): Sequential(\n",
       "    (0): Conv1d(2, 32, kernel_size=(3,), stride=(1,), padding=(1,))\n",
       "    (1): BatchNorm1d(32, eps=1e-05, momentum=0.1, affine=True, track_running_stats=True)\n",
       "    (2): ReLU(inplace=True)\n",
       "    (3): Conv1d(32, 32, kernel_size=(3,), stride=(1,), padding=(1,))\n",
       "    (4): BatchNorm1d(32, eps=1e-05, momentum=0.1, affine=True, track_running_stats=True)\n",
       "    (5): ReLU(inplace=True)\n",
       "    (6): MaxPool1d(kernel_size=3, stride=3, padding=0, dilation=1, ceil_mode=False)\n",
       "    (7): Conv1d(32, 64, kernel_size=(3,), stride=(1,), padding=(1,))\n",
       "    (8): BatchNorm1d(64, eps=1e-05, momentum=0.1, affine=True, track_running_stats=True)\n",
       "    (9): ReLU(inplace=True)\n",
       "    (10): Conv1d(64, 64, kernel_size=(3,), stride=(1,), padding=(1,))\n",
       "    (11): BatchNorm1d(64, eps=1e-05, momentum=0.1, affine=True, track_running_stats=True)\n",
       "    (12): ReLU(inplace=True)\n",
       "    (13): MaxPool1d(kernel_size=3, stride=3, padding=0, dilation=1, ceil_mode=False)\n",
       "    (14): Conv1d(64, 128, kernel_size=(3,), stride=(1,), padding=(1,))\n",
       "    (15): BatchNorm1d(128, eps=1e-05, momentum=0.1, affine=True, track_running_stats=True)\n",
       "    (16): ReLU(inplace=True)\n",
       "    (17): Conv1d(128, 128, kernel_size=(3,), stride=(1,), padding=(1,))\n",
       "    (18): BatchNorm1d(128, eps=1e-05, momentum=0.1, affine=True, track_running_stats=True)\n",
       "    (19): ReLU(inplace=True)\n",
       "    (20): Conv1d(128, 128, kernel_size=(3,), stride=(1,), padding=(1,))\n",
       "    (21): BatchNorm1d(128, eps=1e-05, momentum=0.1, affine=True, track_running_stats=True)\n",
       "    (22): ReLU(inplace=True)\n",
       "    (23): MaxPool1d(kernel_size=3, stride=3, padding=0, dilation=1, ceil_mode=False)\n",
       "    (24): Conv1d(128, 256, kernel_size=(3,), stride=(1,), padding=(1,))\n",
       "    (25): BatchNorm1d(256, eps=1e-05, momentum=0.1, affine=True, track_running_stats=True)\n",
       "    (26): ReLU(inplace=True)\n",
       "    (27): Conv1d(256, 256, kernel_size=(3,), stride=(1,), padding=(1,))\n",
       "    (28): BatchNorm1d(256, eps=1e-05, momentum=0.1, affine=True, track_running_stats=True)\n",
       "    (29): ReLU(inplace=True)\n",
       "    (30): Conv1d(256, 256, kernel_size=(3,), stride=(1,), padding=(1,))\n",
       "    (31): BatchNorm1d(256, eps=1e-05, momentum=0.1, affine=True, track_running_stats=True)\n",
       "    (32): ReLU(inplace=True)\n",
       "    (33): MaxPool1d(kernel_size=3, stride=3, padding=0, dilation=1, ceil_mode=False)\n",
       "    (34): Conv1d(256, 256, kernel_size=(3,), stride=(1,), padding=(1,))\n",
       "    (35): BatchNorm1d(256, eps=1e-05, momentum=0.1, affine=True, track_running_stats=True)\n",
       "    (36): ReLU(inplace=True)\n",
       "    (37): Conv1d(256, 256, kernel_size=(3,), stride=(1,), padding=(1,))\n",
       "    (38): BatchNorm1d(256, eps=1e-05, momentum=0.1, affine=True, track_running_stats=True)\n",
       "    (39): ReLU(inplace=True)\n",
       "    (40): Conv1d(256, 256, kernel_size=(3,), stride=(1,), padding=(1,))\n",
       "    (41): BatchNorm1d(256, eps=1e-05, momentum=0.1, affine=True, track_running_stats=True)\n",
       "    (42): ReLU(inplace=True)\n",
       "    (43): MaxPool1d(kernel_size=3, stride=3, padding=0, dilation=1, ceil_mode=False)\n",
       "  )\n",
       "  (flatten): Flatten(start_dim=1, end_dim=-1)\n",
       "  (classifier): Sequential(\n",
       "    (0): Linear(in_features=3840, out_features=256, bias=True)\n",
       "    (1): ReLU(inplace=True)\n",
       "    (2): Dropout(p=0.5, inplace=False)\n",
       "    (3): Linear(in_features=256, out_features=2, bias=True)\n",
       "  )\n",
       ")"
      ]
     },
     "execution_count": 11,
     "metadata": {},
     "output_type": "execute_result"
    }
   ],
   "source": [
    "cls_weight_path = args.model_save_path\n",
    "\n",
    "cls_model = vgg16_bn(in_channels=args.in_channels, num_classes=args.num_classes)\n",
    "cls_weights = torch.load(cls_weight_path)\n",
    "cls_model.load_state_dict(cls_weights)\n",
    "cls_model.to(DEVICE)\n",
    "cls_model.eval()"
   ]
  },
  {
   "cell_type": "markdown",
   "id": "ad633da6-05b1-40e9-82cb-3b63a2289bbb",
   "metadata": {},
   "source": [
    "- load PPG2ECG model"
   ]
  },
  {
   "cell_type": "code",
   "execution_count": 12,
   "id": "2984839d-9e48-4fab-acf5-a79ae387bc52",
   "metadata": {
    "scrolled": true
   },
   "outputs": [
    {
     "data": {
      "text/plain": [
       "GeneratorResNet(\n",
       "  (model): Sequential(\n",
       "    (0): ReflectionPad1d((1, 1))\n",
       "    (1): Conv1d(1, 64, kernel_size=(7,), stride=(1,), padding=(1,))\n",
       "    (2): InstanceNorm1d(64, eps=1e-05, momentum=0.1, affine=False, track_running_stats=False)\n",
       "    (3): LeakyReLU(negative_slope=0.2, inplace=True)\n",
       "    (4): Conv1d(64, 128, kernel_size=(3,), stride=(2,), padding=(2,))\n",
       "    (5): InstanceNorm1d(128, eps=1e-05, momentum=0.1, affine=False, track_running_stats=False)\n",
       "    (6): LeakyReLU(negative_slope=0.2, inplace=True)\n",
       "    (7): Conv1d(128, 256, kernel_size=(3,), stride=(2,), padding=(2,))\n",
       "    (8): InstanceNorm1d(256, eps=1e-05, momentum=0.1, affine=False, track_running_stats=False)\n",
       "    (9): LeakyReLU(negative_slope=0.2, inplace=True)\n",
       "    (10): ResidualBlock(\n",
       "      (block): Sequential(\n",
       "        (0): ReflectionPad1d((1, 1))\n",
       "        (1): Conv1d(256, 256, kernel_size=(3,), stride=(1,))\n",
       "        (2): InstanceNorm1d(256, eps=1e-05, momentum=0.1, affine=False, track_running_stats=False)\n",
       "        (3): LeakyReLU(negative_slope=0.2, inplace=True)\n",
       "        (4): ReflectionPad1d((1, 1))\n",
       "        (5): Conv1d(256, 256, kernel_size=(3,), stride=(1,))\n",
       "        (6): InstanceNorm1d(256, eps=1e-05, momentum=0.1, affine=False, track_running_stats=False)\n",
       "      )\n",
       "    )\n",
       "    (11): ResidualBlock(\n",
       "      (block): Sequential(\n",
       "        (0): ReflectionPad1d((1, 1))\n",
       "        (1): Conv1d(256, 256, kernel_size=(3,), stride=(1,))\n",
       "        (2): InstanceNorm1d(256, eps=1e-05, momentum=0.1, affine=False, track_running_stats=False)\n",
       "        (3): LeakyReLU(negative_slope=0.2, inplace=True)\n",
       "        (4): ReflectionPad1d((1, 1))\n",
       "        (5): Conv1d(256, 256, kernel_size=(3,), stride=(1,))\n",
       "        (6): InstanceNorm1d(256, eps=1e-05, momentum=0.1, affine=False, track_running_stats=False)\n",
       "      )\n",
       "    )\n",
       "    (12): ResidualBlock(\n",
       "      (block): Sequential(\n",
       "        (0): ReflectionPad1d((1, 1))\n",
       "        (1): Conv1d(256, 256, kernel_size=(3,), stride=(1,))\n",
       "        (2): InstanceNorm1d(256, eps=1e-05, momentum=0.1, affine=False, track_running_stats=False)\n",
       "        (3): LeakyReLU(negative_slope=0.2, inplace=True)\n",
       "        (4): ReflectionPad1d((1, 1))\n",
       "        (5): Conv1d(256, 256, kernel_size=(3,), stride=(1,))\n",
       "        (6): InstanceNorm1d(256, eps=1e-05, momentum=0.1, affine=False, track_running_stats=False)\n",
       "      )\n",
       "    )\n",
       "    (13): ResidualBlock(\n",
       "      (block): Sequential(\n",
       "        (0): ReflectionPad1d((1, 1))\n",
       "        (1): Conv1d(256, 256, kernel_size=(3,), stride=(1,))\n",
       "        (2): InstanceNorm1d(256, eps=1e-05, momentum=0.1, affine=False, track_running_stats=False)\n",
       "        (3): LeakyReLU(negative_slope=0.2, inplace=True)\n",
       "        (4): ReflectionPad1d((1, 1))\n",
       "        (5): Conv1d(256, 256, kernel_size=(3,), stride=(1,))\n",
       "        (6): InstanceNorm1d(256, eps=1e-05, momentum=0.1, affine=False, track_running_stats=False)\n",
       "      )\n",
       "    )\n",
       "    (14): ResidualBlock(\n",
       "      (block): Sequential(\n",
       "        (0): ReflectionPad1d((1, 1))\n",
       "        (1): Conv1d(256, 256, kernel_size=(3,), stride=(1,))\n",
       "        (2): InstanceNorm1d(256, eps=1e-05, momentum=0.1, affine=False, track_running_stats=False)\n",
       "        (3): LeakyReLU(negative_slope=0.2, inplace=True)\n",
       "        (4): ReflectionPad1d((1, 1))\n",
       "        (5): Conv1d(256, 256, kernel_size=(3,), stride=(1,))\n",
       "        (6): InstanceNorm1d(256, eps=1e-05, momentum=0.1, affine=False, track_running_stats=False)\n",
       "      )\n",
       "    )\n",
       "    (15): ResidualBlock(\n",
       "      (block): Sequential(\n",
       "        (0): ReflectionPad1d((1, 1))\n",
       "        (1): Conv1d(256, 256, kernel_size=(3,), stride=(1,))\n",
       "        (2): InstanceNorm1d(256, eps=1e-05, momentum=0.1, affine=False, track_running_stats=False)\n",
       "        (3): LeakyReLU(negative_slope=0.2, inplace=True)\n",
       "        (4): ReflectionPad1d((1, 1))\n",
       "        (5): Conv1d(256, 256, kernel_size=(3,), stride=(1,))\n",
       "        (6): InstanceNorm1d(256, eps=1e-05, momentum=0.1, affine=False, track_running_stats=False)\n",
       "      )\n",
       "    )\n",
       "    (16): Upsample(scale_factor=2.0, mode='nearest')\n",
       "    (17): Conv1d(256, 128, kernel_size=(3,), stride=(1,), padding=(1,))\n",
       "    (18): InstanceNorm1d(128, eps=1e-05, momentum=0.1, affine=False, track_running_stats=False)\n",
       "    (19): LeakyReLU(negative_slope=0.2, inplace=True)\n",
       "    (20): Upsample(scale_factor=2.0, mode='nearest')\n",
       "    (21): Conv1d(128, 64, kernel_size=(3,), stride=(1,), padding=(1,))\n",
       "    (22): InstanceNorm1d(64, eps=1e-05, momentum=0.1, affine=False, track_running_stats=False)\n",
       "    (23): LeakyReLU(negative_slope=0.2, inplace=True)\n",
       "    (24): ReflectionPad1d((1, 1))\n",
       "    (25): Conv1d(64, 1, kernel_size=(7,), stride=(1,))\n",
       "    (26): Tanh()\n",
       "  )\n",
       ")"
      ]
     },
     "execution_count": 12,
     "metadata": {},
     "output_type": "execute_result"
    }
   ],
   "source": [
    "weights_path = './gan_weights/PPG2ECG_CycleGAN_1Epochs.pth'\n",
    "input_shape = (None, 1, int(args.target_sampling_rate * args.sig_time_len))\n",
    "n_residual_blocks = 6\n",
    "\n",
    "G_AB = GeneratorResNet(input_shape, n_residual_blocks)\n",
    "weights = torch.load(weights_path)\n",
    "G_AB.load_state_dict(weights['G_AB'])\n",
    "G_AB.to(DEVICE)\n",
    "G_AB.eval()"
   ]
  },
  {
   "cell_type": "markdown",
   "id": "0fb18ef2-f326-42fd-a12f-b06fcf36ef4e",
   "metadata": {},
   "source": [
    "- inference"
   ]
  },
  {
   "cell_type": "code",
   "execution_count": 13,
   "id": "4baadb3b-e9b3-4e85-b34d-f1b394ccd94d",
   "metadata": {},
   "outputs": [],
   "source": [
    "z_score_norm = args.z_score_norm_rescale\n",
    "min_max_norm = args.min_max_norm_rescale"
   ]
  },
  {
   "cell_type": "code",
   "execution_count": 14,
   "id": "af4e8328-ba34-4705-81d8-5350df9e36e3",
   "metadata": {},
   "outputs": [
    {
     "name": "stderr",
     "output_type": "stream",
     "text": [
      "100%|████████████████████████████████████████████████████████████████████████████████████| 5/5 [00:04<00:00,  1.13it/s]\n"
     ]
    }
   ],
   "source": [
    "y_trues_list = []\n",
    "y_preds_list = []\n",
    "\n",
    "for data in tqdm(dataloader, total=len(dataloader)):    \n",
    "    with torch.no_grad():\n",
    "        # data extraction\n",
    "        ppg, label = data\n",
    "        ppg = ppg.to(DEVICE)\n",
    "        ecg = make_syn_ecg(G_AB, ppg)   \n",
    "        \n",
    "        ppg = batch_signal_downsample(ppg, 128, args.downsample_fs)\n",
    "        ecg = batch_signal_downsample(ecg, 128, args.downsample_fs)\n",
    "        \n",
    "        # normalize\n",
    "        if z_score_norm == True and min_max_norm == False:\n",
    "            ppg = normalize_data(ppg, z_score_norm=True, min_max_norm=False)\n",
    "            ecg = normalize_data(ecg, z_score_norm=True, min_max_norm=False)\n",
    "\n",
    "        elif z_score_norm == False and min_max_norm == True:\n",
    "            ppg = normalize_data(ppg, z_score_norm=False, min_max_norm=True)\n",
    "            ecg = normalize_data(ecg, z_score_norm=False, min_max_norm=True)\n",
    "\n",
    "        elif z_score_norm == True and min_max_norm == True:\n",
    "            ppg = normalize_data(ppg, z_score_norm=True, min_max_norm=True)\n",
    "            ecg = normalize_data(ecg, z_score_norm=True, min_max_norm=True)\n",
    "\n",
    "        elif z_score_norm == False and min_max_norm == False:\n",
    "            ppg = normalize_data(ppg, z_score_norm=False, min_max_norm=False)\n",
    "            ecg = normalize_data(ecg, z_score_norm=False, min_max_norm=False)\n",
    "\n",
    "        input_data = torch.cat((ppg, ecg), 1).to(DEVICE)\n",
    "        \n",
    "        y_pred = cls_model(input_data).data.cpu().numpy()\n",
    "        y_pred_max = list(np.argmax(y_pred, -1))\n",
    "        label = list(label.data.cpu().numpy())\n",
    "        \n",
    "        y_trues_list.extend(label)\n",
    "        y_preds_list.extend(y_pred_max)"
   ]
  },
  {
   "cell_type": "markdown",
   "id": "092c0365-70cd-40a1-9480-fddec8639ae8",
   "metadata": {},
   "source": [
    "- score"
   ]
  },
  {
   "cell_type": "code",
   "execution_count": 16,
   "id": "0de46b08-c97c-4e70-b754-0198b8cb78d4",
   "metadata": {},
   "outputs": [
    {
     "name": "stdout",
     "output_type": "stream",
     "text": [
      "              precision    recall  f1-score   support\n",
      "\n",
      "           0     0.9688    0.9612    0.9650       129\n",
      "           1     0.8649    0.8889    0.8767        36\n",
      "\n",
      "    accuracy                         0.9455       165\n",
      "   macro avg     0.9168    0.9251    0.9208       165\n",
      "weighted avg     0.9461    0.9455    0.9457       165\n",
      "\n"
     ]
    }
   ],
   "source": [
    "print(classification_report(y_trues_list, y_preds_list, digits=4))"
   ]
  }
 ],
 "metadata": {
  "kernelspec": {
   "display_name": "Python 3 (ipykernel)",
   "language": "python",
   "name": "python3"
  },
  "language_info": {
   "codemirror_mode": {
    "name": "ipython",
    "version": 3
   },
   "file_extension": ".py",
   "mimetype": "text/x-python",
   "name": "python",
   "nbconvert_exporter": "python",
   "pygments_lexer": "ipython3",
   "version": "3.8.18"
  }
 },
 "nbformat": 4,
 "nbformat_minor": 5
}
