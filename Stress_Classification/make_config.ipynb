{
 "cells": [
  {
   "cell_type": "code",
   "execution_count": 1,
   "id": "75445099-c374-479f-bab9-46d6c66aba67",
   "metadata": {},
   "outputs": [],
   "source": [
    "from utils import *"
   ]
  },
  {
   "cell_type": "code",
   "execution_count": 5,
   "id": "d6da873e-96d3-464e-bc19-96de84006541",
   "metadata": {},
   "outputs": [],
   "source": [
    "param_dict = {}\n",
    "param_dict['partition_path'] = \"./partition/partition_formatting.npy\"\n",
    "param_dict['num_workers'] = 0\n",
    "param_dict['batch_size'] = 128\n",
    "\n",
    "# data 관련\n",
    "param_dict['target_sampling_rate'] = 128.\n",
    "param_dict['min_max_norm'] = True\n",
    "param_dict['z_score_norm'] = True\n",
    "param_dict['sig_time_len'] = 60\n",
    "param_dict['interp_method'] = 'spline'\n",
    "param_dict['z_score_norm_rescale'] = True\n",
    "param_dict['min_max_norm_rescale'] = False\n",
    "param_dict['downsample_fs'] = 64\n",
    "\n",
    "# Architecture\n",
    "param_dict['in_channels'] = 2\n",
    "param_dict['num_classes'] = 2\n",
    "\n",
    "# 학습 관련\n",
    "param_dict['lr'] = 0.005\n",
    "param_dict['weight_decay'] = 1e-5\n",
    "param_dict['num_epochs'] = 30\n",
    "param_dict['monitor']  = 'average_f1'\n",
    "param_dict['model_save_path'] = './model_result/02_PPGECG/VGG16_PPGECG.pth'\n",
    "\n",
    "# dist learning\n",
    "param_dict['dist_proc_port'] = '12455'"
   ]
  },
  {
   "cell_type": "code",
   "execution_count": 6,
   "id": "d259cac3-6773-4d92-8ceb-7838010a3920",
   "metadata": {},
   "outputs": [],
   "source": [
    "save_json('./config/VGG16_PPGECG.json', param_dict)"
   ]
  },
  {
   "cell_type": "markdown",
   "id": "367fbf0b-dbe1-44d5-8ce3-374e306fd1d9",
   "metadata": {},
   "source": [
    "## Config 수정"
   ]
  },
  {
   "cell_type": "code",
   "execution_count": 2,
   "id": "47fa9d5b-fc96-4672-acf7-50a2b1aa6fd8",
   "metadata": {},
   "outputs": [],
   "source": [
    "config = load_json_file('./config/VGG16_PPGECG.json')"
   ]
  },
  {
   "cell_type": "code",
   "execution_count": 3,
   "id": "f0ce0cc3-06ab-4f9d-8c6d-e126378acb7f",
   "metadata": {},
   "outputs": [],
   "source": [
    "config['dist_proc_port'] = '13200'\n",
    "config['batch_size'] = 32"
   ]
  },
  {
   "cell_type": "code",
   "execution_count": 4,
   "id": "11529a88-076e-4b68-a1b9-24bfd612b237",
   "metadata": {},
   "outputs": [],
   "source": [
    "save_json('./config/VGG16_PPGECG.json', config)"
   ]
  }
 ],
 "metadata": {
  "kernelspec": {
   "display_name": "Python 3 (ipykernel)",
   "language": "python",
   "name": "python3"
  },
  "language_info": {
   "codemirror_mode": {
    "name": "ipython",
    "version": 3
   },
   "file_extension": ".py",
   "mimetype": "text/x-python",
   "name": "python",
   "nbconvert_exporter": "python",
   "pygments_lexer": "ipython3",
   "version": "3.8.18"
  }
 },
 "nbformat": 4,
 "nbformat_minor": 5
}
