{
 "cells": [
  {
   "cell_type": "code",
   "execution_count": 1,
   "id": "fd926cf8-ef23-4fcb-8c46-3bb6a0e48ceb",
   "metadata": {},
   "outputs": [],
   "source": [
    "import glob\n",
    "import numpy as np"
   ]
  },
  {
   "cell_type": "markdown",
   "id": "60873f00-de67-4ae7-a609-6c1a2a0ee137",
   "metadata": {},
   "source": [
    "## 01. BIDMC : 3 subjects"
   ]
  },
  {
   "cell_type": "markdown",
   "id": "2e0e76dd-5aca-4f13-8d70-8fc76540cc05",
   "metadata": {},
   "source": [
    "- load dataset paths"
   ]
  },
  {
   "cell_type": "code",
   "execution_count": 17,
   "id": "777da78d-7873-43b2-a3a6-ba48ff07b006",
   "metadata": {},
   "outputs": [],
   "source": [
    "dataset_paths = glob.glob('../00_Data/01_PPG2ECG/02_Formatting/01_BIDMC/*.npy')\n",
    "unique_subjects = np.unique([dataset_paths[i].split('\\\\')[-1].split('.')[0][:-7] for i in range(len(dataset_paths))])\n",
    "\n",
    "val_subjects = unique_subjects[np.random.choice(len(unique_subjects), 3, replace=False)]\n",
    "train_subjects = list(set(unique_subjects) - set(val_subjects))"
   ]
  },
  {
   "cell_type": "code",
   "execution_count": 21,
   "id": "7c14a400-c8fc-4c05-a7c7-238a03f43efc",
   "metadata": {},
   "outputs": [
    {
     "data": {
      "text/plain": [
       "array(['bidmc_32_Signals', 'bidmc_39_Signals', 'bidmc_46_Signals'],\n",
       "      dtype='<U16')"
      ]
     },
     "execution_count": 21,
     "metadata": {},
     "output_type": "execute_result"
    }
   ],
   "source": [
    "val_subjects"
   ]
  },
  {
   "cell_type": "markdown",
   "id": "1d71ce24-5b08-45be-bef5-e8316ee14955",
   "metadata": {},
   "source": [
    "- train, val 작업"
   ]
  },
  {
   "cell_type": "code",
   "execution_count": 26,
   "id": "6751ed1e-ebe2-4afb-9e49-ef089cd67c15",
   "metadata": {},
   "outputs": [],
   "source": [
    "val_path_list = []\n",
    "\n",
    "for val_sub in val_subjects:\n",
    "    for path in dataset_paths:\n",
    "        if val_sub in path:\n",
    "            val_path_list.append(path)\n",
    "train_path_list = list(set(dataset_paths) - set(val_path_list))"
   ]
  },
  {
   "cell_type": "markdown",
   "id": "b1b93723-d6b3-4e0b-b612-3432258b085a",
   "metadata": {},
   "source": [
    "- partition"
   ]
  },
  {
   "cell_type": "code",
   "execution_count": 30,
   "id": "cc2c534d-c643-4b60-8d8e-564ee7ea5f38",
   "metadata": {},
   "outputs": [],
   "source": [
    "partition = {}\n",
    "partition['trainset'] = train_path_list\n",
    "partition['valset'] = val_path_list\n",
    "partition['dataset'] = 'BIDMC'\n",
    "\n",
    "np.save('./partition/01_BIDMC_Partition.npy', partition)"
   ]
  },
  {
   "cell_type": "markdown",
   "id": "0e2b91d1-33c8-4241-9905-aa95f1e3b025",
   "metadata": {},
   "source": [
    "## 02. CapnoBase : 2 subjects"
   ]
  },
  {
   "cell_type": "code",
   "execution_count": 1,
   "id": "81c7020e-a5a3-49dc-a83d-d594d86b47f0",
   "metadata": {},
   "outputs": [],
   "source": [
    "import glob\n",
    "import numpy as np"
   ]
  },
  {
   "cell_type": "markdown",
   "id": "8daae12f-1151-485a-b694-26e4334af25d",
   "metadata": {},
   "source": [
    "- load dataset paths"
   ]
  },
  {
   "cell_type": "code",
   "execution_count": 7,
   "id": "8a3b18cd-754e-4c49-ba64-8483f4c9a575",
   "metadata": {},
   "outputs": [],
   "source": [
    "dataset_paths = glob.glob('../00_Data/01_PPG2ECG/02_Formatting/02_CapnoBase/*.npy')\n",
    "unique_subjects = np.unique([dataset_paths[i].split('\\\\')[-1].split('.')[0][:-7] for i in range(len(dataset_paths))])\n",
    "\n",
    "val_subjects = unique_subjects[np.random.choice(len(unique_subjects), 2, replace=False)]\n",
    "train_subjects = list(set(unique_subjects) - set(val_subjects))"
   ]
  },
  {
   "cell_type": "code",
   "execution_count": 10,
   "id": "2b977f01-4c5c-4a9d-819f-b77959f21fa6",
   "metadata": {},
   "outputs": [
    {
     "data": {
      "text/plain": [
       "array(['0031_8min_signal', '0015_8min_signal'], dtype='<U16')"
      ]
     },
     "execution_count": 10,
     "metadata": {},
     "output_type": "execute_result"
    }
   ],
   "source": [
    "val_subjects"
   ]
  },
  {
   "cell_type": "markdown",
   "id": "08ec6383-425c-4562-8e6e-6f71971d74d9",
   "metadata": {},
   "source": [
    "- train, val 작업"
   ]
  },
  {
   "cell_type": "code",
   "execution_count": 11,
   "id": "5f858d16-6e16-47f9-a398-9f372f1858b3",
   "metadata": {},
   "outputs": [],
   "source": [
    "val_path_list = []\n",
    "\n",
    "for val_sub in val_subjects:\n",
    "    for path in dataset_paths:\n",
    "        if val_sub in path:\n",
    "            val_path_list.append(path)\n",
    "train_path_list = list(set(dataset_paths) - set(val_path_list))"
   ]
  },
  {
   "cell_type": "code",
   "execution_count": 13,
   "id": "6492860a-f05e-4ce4-b848-52c1a518e0d5",
   "metadata": {},
   "outputs": [
    {
     "data": {
      "text/plain": [
       "(5040, 5040)"
      ]
     },
     "execution_count": 13,
     "metadata": {},
     "output_type": "execute_result"
    }
   ],
   "source": [
    "len(train_path_list) + len(val_path_list), len(dataset_paths)"
   ]
  },
  {
   "cell_type": "markdown",
   "id": "27a996d1-61fc-4a7a-8a02-538099667d36",
   "metadata": {},
   "source": [
    "- 저장"
   ]
  },
  {
   "cell_type": "code",
   "execution_count": 14,
   "id": "0b55eccb-d90a-45c7-b909-c17a667819b2",
   "metadata": {},
   "outputs": [],
   "source": [
    "partition = {}\n",
    "partition['trainset'] = train_path_list\n",
    "partition['valset'] = val_path_list\n",
    "partition['dataset'] = 'CapnoBase'\n",
    "\n",
    "np.save('./partition/02_CapnoBase_Partition.npy', partition)"
   ]
  },
  {
   "cell_type": "markdown",
   "id": "37d25d00-572c-4f1f-bcce-a29265bb4907",
   "metadata": {},
   "source": [
    "## 03. DaLia : 1 subjects"
   ]
  },
  {
   "cell_type": "code",
   "execution_count": 1,
   "id": "d5120773-f7cf-42a1-84bf-bb81c5063e66",
   "metadata": {},
   "outputs": [],
   "source": [
    "import glob\n",
    "import numpy as np"
   ]
  },
  {
   "cell_type": "markdown",
   "id": "85a23161-c181-4ccf-8734-ea07bae2f49e",
   "metadata": {},
   "source": [
    "- load datapaths"
   ]
  },
  {
   "cell_type": "code",
   "execution_count": 12,
   "id": "09de7ea0-bfde-4605-adb8-dceda0e06406",
   "metadata": {},
   "outputs": [],
   "source": [
    "dataset_paths = glob.glob('../00_Data/01_PPG2ECG/02_Formatting/03_DaLia/*.npy')\n",
    "unique_subjects = np.unique([dataset_paths[i].split('\\\\')[-1].split('.')[0][:-8] for i in range(len(dataset_paths))])\n",
    "\n",
    "val_subjects = unique_subjects[np.random.choice(len(unique_subjects), 1, replace=False)]\n",
    "train_subjects = list(set(unique_subjects) - set(val_subjects))"
   ]
  },
  {
   "cell_type": "code",
   "execution_count": 13,
   "id": "3cf5c30c-91af-425b-9210-d0c483002977",
   "metadata": {},
   "outputs": [
    {
     "data": {
      "text/plain": [
       "array(['S12'], dtype='<U3')"
      ]
     },
     "execution_count": 13,
     "metadata": {},
     "output_type": "execute_result"
    }
   ],
   "source": [
    "val_subjects"
   ]
  },
  {
   "cell_type": "markdown",
   "id": "45200109-63b0-4b0f-8cd7-66c12c8973bd",
   "metadata": {},
   "source": [
    "- train, val 작업"
   ]
  },
  {
   "cell_type": "code",
   "execution_count": 14,
   "id": "2f666b02-85d3-4515-8f64-f41912f097d6",
   "metadata": {},
   "outputs": [],
   "source": [
    "val_path_list = []\n",
    "\n",
    "for val_sub in val_subjects:\n",
    "    for path in dataset_paths:\n",
    "        if val_sub in path:\n",
    "            val_path_list.append(path)\n",
    "train_path_list = list(set(dataset_paths) - set(val_path_list))"
   ]
  },
  {
   "cell_type": "code",
   "execution_count": 15,
   "id": "af60daa9-e7bc-474e-a4dd-d88d8215fa8a",
   "metadata": {},
   "outputs": [
    {
     "data": {
      "text/plain": [
       "(32368, 32368)"
      ]
     },
     "execution_count": 15,
     "metadata": {},
     "output_type": "execute_result"
    }
   ],
   "source": [
    "len(train_path_list) + len(val_path_list), len(dataset_paths)"
   ]
  },
  {
   "cell_type": "markdown",
   "id": "2ffea70b-ad7f-46f4-a97e-616cf96e22be",
   "metadata": {},
   "source": [
    "- 저장"
   ]
  },
  {
   "cell_type": "code",
   "execution_count": 16,
   "id": "2adec947-406e-475b-9c60-ee18f2f35294",
   "metadata": {},
   "outputs": [],
   "source": [
    "partition = {}\n",
    "partition['trainset'] = train_path_list\n",
    "partition['valset'] = val_path_list\n",
    "partition['dataset'] = 'DaLia'\n",
    "\n",
    "np.save('./partition/03_DaLia_Partition.npy', partition)"
   ]
  },
  {
   "cell_type": "markdown",
   "id": "83687f83-8554-4761-acea-fe26a4e17485",
   "metadata": {},
   "source": [
    "## 04. WESAD"
   ]
  },
  {
   "cell_type": "code",
   "execution_count": 1,
   "id": "0ff220d3-87c5-4086-b907-79a20bce3fab",
   "metadata": {},
   "outputs": [],
   "source": [
    "import glob\n",
    "import numpy as np"
   ]
  },
  {
   "cell_type": "markdown",
   "id": "4c2ebb55-bd2a-431e-8ec6-f7bb372526da",
   "metadata": {},
   "source": [
    "- load datapaths"
   ]
  },
  {
   "cell_type": "code",
   "execution_count": 17,
   "id": "9882b1ff-796f-4ad6-b2bb-26acbcbac279",
   "metadata": {},
   "outputs": [],
   "source": [
    "dataset_paths = glob.glob('../00_Data/01_PPG2ECG/02_Formatting/04_WESAD//*.npy')\n",
    "unique_subjects = np.unique([dataset_paths[i].split('\\\\')[-1].split('.')[0][:-8] for i in range(len(dataset_paths))])\n",
    "\n",
    "val_subjects = unique_subjects[np.random.choice(len(unique_subjects), 1, replace=False)]\n",
    "train_subjects = list(set(unique_subjects) - set(val_subjects))"
   ]
  },
  {
   "cell_type": "code",
   "execution_count": 18,
   "id": "0d40aee7-f7ef-4751-8813-84fdc1148afa",
   "metadata": {},
   "outputs": [
    {
     "data": {
      "text/plain": [
       "array(['S7'], dtype='<U3')"
      ]
     },
     "execution_count": 18,
     "metadata": {},
     "output_type": "execute_result"
    }
   ],
   "source": [
    "val_subjects"
   ]
  },
  {
   "cell_type": "markdown",
   "id": "0dea2542-f69b-4cc5-9760-61f820c803a5",
   "metadata": {},
   "source": [
    "- train, val 작업"
   ]
  },
  {
   "cell_type": "code",
   "execution_count": 19,
   "id": "6dff3c6d-0a9a-43ad-b2bd-93f3d7d3bb2a",
   "metadata": {},
   "outputs": [],
   "source": [
    "val_path_list = []\n",
    "\n",
    "for val_sub in val_subjects:\n",
    "    for path in dataset_paths:\n",
    "        if val_sub in path:\n",
    "            val_path_list.append(path)\n",
    "train_path_list = list(set(dataset_paths) - set(val_path_list))"
   ]
  },
  {
   "cell_type": "code",
   "execution_count": 20,
   "id": "5a1fa2b9-62a8-4d08-b524-21d7b12ee607",
   "metadata": {},
   "outputs": [
    {
     "data": {
      "text/plain": [
       "(21711, 21711)"
      ]
     },
     "execution_count": 20,
     "metadata": {},
     "output_type": "execute_result"
    }
   ],
   "source": [
    "len(train_path_list) + len(val_path_list), len(dataset_paths)"
   ]
  },
  {
   "cell_type": "markdown",
   "id": "5a5d4c3e-030c-42b9-8a9a-03caa3bca1bd",
   "metadata": {},
   "source": [
    "- 저장"
   ]
  },
  {
   "cell_type": "code",
   "execution_count": 21,
   "id": "a12277d9-e610-4ce8-8ae7-c6ee9a831646",
   "metadata": {},
   "outputs": [],
   "source": [
    "partition = {}\n",
    "partition['trainset'] = train_path_list\n",
    "partition['valset'] = val_path_list\n",
    "partition['dataset'] = 'WESAD'\n",
    "\n",
    "np.save('./partition/04_WESAD_Partition.npy', partition)"
   ]
  },
  {
   "cell_type": "markdown",
   "id": "1f24b94c-c8e0-4631-a887-7f96977ac253",
   "metadata": {},
   "source": [
    "## Total partition"
   ]
  },
  {
   "cell_type": "code",
   "execution_count": 3,
   "id": "7eef8f4e-c788-41cc-a88b-6fe60309f41d",
   "metadata": {},
   "outputs": [],
   "source": [
    "import numpy as np\n",
    "import glob"
   ]
  },
  {
   "cell_type": "markdown",
   "id": "4ebdc24c-70ab-4cb3-8a5e-a3d01fc3b829",
   "metadata": {},
   "source": [
    "- load partition paths"
   ]
  },
  {
   "cell_type": "code",
   "execution_count": 4,
   "id": "e9ecbb7a-c46d-4c8c-b7fb-236f316775df",
   "metadata": {},
   "outputs": [],
   "source": [
    "par_paths = glob.glob('./partition/*.npy')"
   ]
  },
  {
   "cell_type": "markdown",
   "id": "28160ca3-3b24-479e-bb67-7a47630887c8",
   "metadata": {},
   "source": [
    "- merge"
   ]
  },
  {
   "cell_type": "code",
   "execution_count": 5,
   "id": "6ea3202e-3ce7-4a54-86a6-32ae7ddbcd7f",
   "metadata": {},
   "outputs": [],
   "source": [
    "total_trainset = []\n",
    "total_valset = []\n",
    "\n",
    "for path in par_paths:\n",
    "    partition = np.load(path, allow_pickle=True).item()\n",
    "    total_trainset.extend(partition['trainset'])\n",
    "    total_valset.extend(partition['valset'])"
   ]
  },
  {
   "cell_type": "code",
   "execution_count": 7,
   "id": "427c02ce-5c38-4d80-9172-f2658c4b75a3",
   "metadata": {},
   "outputs": [
    {
     "data": {
      "text/plain": [
       "(61592, 3887)"
      ]
     },
     "execution_count": 7,
     "metadata": {},
     "output_type": "execute_result"
    }
   ],
   "source": [
    "len(total_trainset), len(total_valset)"
   ]
  },
  {
   "cell_type": "markdown",
   "id": "f914ddc9-d914-4b18-b659-f04c27ca5a1c",
   "metadata": {},
   "source": [
    "- total partition"
   ]
  },
  {
   "cell_type": "code",
   "execution_count": 8,
   "id": "723332a4-1794-46f1-aa49-26666992cd4e",
   "metadata": {},
   "outputs": [],
   "source": [
    "total_partition = {}\n",
    "total_partition['trainset'] = total_trainset\n",
    "total_partition['valset'] = total_valset"
   ]
  },
  {
   "cell_type": "code",
   "execution_count": 9,
   "id": "c488a62f-14aa-4141-8f25-d119f9e8bab5",
   "metadata": {},
   "outputs": [],
   "source": [
    "np.save('./partition/Total_Partition.npy', total_partition)"
   ]
  }
 ],
 "metadata": {
  "kernelspec": {
   "display_name": "Python 3 (ipykernel)",
   "language": "python",
   "name": "python3"
  },
  "language_info": {
   "codemirror_mode": {
    "name": "ipython",
    "version": 3
   },
   "file_extension": ".py",
   "mimetype": "text/x-python",
   "name": "python",
   "nbconvert_exporter": "python",
   "pygments_lexer": "ipython3",
   "version": "3.8.18"
  }
 },
 "nbformat": 4,
 "nbformat_minor": 5
}
