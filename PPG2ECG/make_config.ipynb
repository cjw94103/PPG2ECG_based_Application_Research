{
 "cells": [
  {
   "cell_type": "code",
   "execution_count": 1,
   "id": "962448ff-dd3e-4c68-9f0f-5677cfb9fa2f",
   "metadata": {},
   "outputs": [],
   "source": [
    "from utils import *"
   ]
  },
  {
   "cell_type": "code",
   "execution_count": 2,
   "id": "18a90675-a48f-45c4-828c-04cdac31a1d3",
   "metadata": {},
   "outputs": [],
   "source": [
    "param_dict = {}\n",
    "param_dict['partition_path'] = \"./partition/Total_Partition.npy\"\n",
    "param_dict['num_workers'] = 0\n",
    "param_dict['batch_size'] = 192\n",
    "\n",
    "# data 관련\n",
    "param_dict['target_sampling_rate'] = 128.\n",
    "param_dict['min_max_norm'] = True\n",
    "param_dict['z_score_norm'] = True\n",
    "param_dict['sig_time_len'] = 4\n",
    "param_dict['interp_method'] = 'spline'\n",
    "\n",
    "# Architecture\n",
    "param_dict['n_residual_blocks'] = 6\n",
    "\n",
    "# 학습 관련\n",
    "param_dict['lambda_cyc'] = 0.1\n",
    "param_dict['lr'] = 0.0002\n",
    "param_dict['b1'] = 0.5\n",
    "param_dict['b2'] = 0.999\n",
    "param_dict['lr_decay_epoch'] = 10\n",
    "param_dict['num_epochs'] = 15\n",
    "param_dict['save_per_epochs'] = 1\n",
    "param_dict['model_save_path'] = './model_result/CycleGAN/PPG2ECG_CycleGAN.pth'\n",
    "\n",
    "# dist learning\n",
    "param_dict['dist_proc_port'] = '12355'"
   ]
  },
  {
   "cell_type": "code",
   "execution_count": 3,
   "id": "6350bc80-e576-42ca-a30c-8343c2163c24",
   "metadata": {},
   "outputs": [],
   "source": [
    "save_json('./config/CycleGAN_PPG2ECG.json', param_dict)"
   ]
  }
 ],
 "metadata": {
  "kernelspec": {
   "display_name": "Python 3 (ipykernel)",
   "language": "python",
   "name": "python3"
  },
  "language_info": {
   "codemirror_mode": {
    "name": "ipython",
    "version": 3
   },
   "file_extension": ".py",
   "mimetype": "text/x-python",
   "name": "python",
   "nbconvert_exporter": "python",
   "pygments_lexer": "ipython3",
   "version": "3.8.18"
  }
 },
 "nbformat": 4,
 "nbformat_minor": 5
}
