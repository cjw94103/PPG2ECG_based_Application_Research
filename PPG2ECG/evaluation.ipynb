{
 "cells": [
  {
   "cell_type": "code",
   "execution_count": 1,
   "id": "eb0ba075-6cd6-446c-af16-dd46a78caeae",
   "metadata": {},
   "outputs": [
    {
     "name": "stdout",
     "output_type": "stream",
     "text": [
      "Importing the dtw module. When using in academic works please cite:\n",
      "  T. Giorgino. Computing and Visualizing Dynamic Time Warping Alignments in R: The dtw Package.\n",
      "  J. Stat. Soft., doi:10.18637/jss.v031.i07.\n",
      "\n"
     ]
    }
   ],
   "source": [
    "import warnings\n",
    "warnings.filterwarnings('ignore')\n",
    "\n",
    "import glob\n",
    "import numpy as np\n",
    "import torch\n",
    "import matplotlib.pyplot as plt\n",
    "\n",
    "from models import GeneratorResNet\n",
    "from dataset import PPG2ECG_Dataset_Eval\n",
    "from tqdm import tqdm\n",
    "from make_args import Args\n",
    "\n",
    "from sklearn.metrics import mean_absolute_error\n",
    "import dtw # pip install dtw-python"
   ]
  },
  {
   "cell_type": "markdown",
   "id": "2e679ed4-7b7f-4d8c-8b64-228ddfaab29d",
   "metadata": {},
   "source": [
    "- load args"
   ]
  },
  {
   "cell_type": "code",
   "execution_count": 2,
   "id": "92b31e8b-98a6-4782-90b6-c93e7e020b1a",
   "metadata": {},
   "outputs": [],
   "source": [
    "args = Args('./config/CycleGAN_PPG2ECG.json')"
   ]
  },
  {
   "cell_type": "markdown",
   "id": "c1350eaa-1ee8-46f5-b63d-ad45acdb217a",
   "metadata": {},
   "source": [
    "- 필요 함수"
   ]
  },
  {
   "cell_type": "code",
   "execution_count": 3,
   "id": "cedde2dc-a920-4c4d-8b3b-7e4aafdd0d7c",
   "metadata": {},
   "outputs": [],
   "source": [
    "def MAE(y, y_pred):\n",
    "    return mean_absolute_error(y, y_pred)\n",
    "    \n",
    "def NMAE(y, y_pred):\n",
    "    numerator = np.abs(y-y_pred).sum()\n",
    "    denominator = np.abs(y_pred).sum()\n",
    "    \n",
    "    return numerator / (denominator + 1e-10)\n",
    "    \n",
    "def RMSE(y, pred):\n",
    "    return np.sqrt(np.mean(np.square(y-pred)))\n",
    "    \n",
    "def NRMSE(y, y_pred):\n",
    "    numerator = RMSE(y, y_pred)\n",
    "    denominator = y.max() - y.min()\n",
    "    \n",
    "    return numerator / (denominator + 1e-10)\n",
    "\n",
    "def PRD(y, y_pred):\n",
    "    numerator = ((y-y_pred)**2).sum()\n",
    "    denominator = (y**2).sum()\n",
    "    \n",
    "    return np.sqrt((numerator / (denominator + 1e-10))*100)\n",
    "\n",
    "def DTW(y, y_pred):\n",
    "    return dtw.dtw(y, y_pred, keep_internals=True).distance"
   ]
  },
  {
   "cell_type": "code",
   "execution_count": 4,
   "id": "8afceae9-cdb5-47a0-adbf-d5e45b2f729a",
   "metadata": {},
   "outputs": [],
   "source": [
    "def load_model(weights_path, input_shape, n_residual_blocks, DEVICE):\n",
    "    G_AB = GeneratorResNet(input_shape, n_residual_blocks)\n",
    "    weights = torch.load(weights_path, map_location=DEVICE)\n",
    "    G_AB.load_state_dict(weights['G_AB'])\n",
    "    G_AB.to(DEVICE)\n",
    "    G_AB.eval()\n",
    "    \n",
    "    return G_AB"
   ]
  },
  {
   "cell_type": "markdown",
   "id": "6cf5dcb3-69df-490f-a647-a8000666a522",
   "metadata": {},
   "source": [
    "- Define Device"
   ]
  },
  {
   "cell_type": "code",
   "execution_count": 5,
   "id": "02e9c5ab-3c25-4408-99ba-5009c99b00ff",
   "metadata": {},
   "outputs": [
    {
     "name": "stdout",
     "output_type": "stream",
     "text": [
      "Using Pytorch Versions: 2.1.1+cu118  Device: cuda\n"
     ]
    }
   ],
   "source": [
    "if torch.cuda.is_available():\n",
    "    DEVICE = torch.device('cuda')\n",
    "else:\n",
    "    DEVICE = torch.device('cpu')\n",
    "\n",
    "print(\"Using Pytorch Versions:\", torch.__version__, ' Device:', DEVICE)"
   ]
  },
  {
   "cell_type": "markdown",
   "id": "5f9e4644-dae1-4c1d-86b2-f9017fcf47ed",
   "metadata": {},
   "source": [
    "- get dataloader"
   ]
  },
  {
   "cell_type": "code",
   "execution_count": 6,
   "id": "f96da71f-5f75-4435-94b9-90026b91b655",
   "metadata": {},
   "outputs": [],
   "source": [
    "partition = np.load(args.partition_path, allow_pickle=True).item()\n",
    "\n",
    "valset = partition['valset']"
   ]
  },
  {
   "cell_type": "code",
   "execution_count": 7,
   "id": "0ea2023b-38b7-4ef0-9c96-3a7bd9025c34",
   "metadata": {},
   "outputs": [],
   "source": [
    "batch_size = 100\n",
    "num_worker = args.num_workers\n",
    "\n",
    "trainloader_instance = PPG2ECG_Dataset_Eval(valset, sampling_rate=args.target_sampling_rate, \n",
    "                                           min_max_norm=args.min_max_norm, z_score_norm=args.z_score_norm, interp=args.interp_method)\n",
    "train_dataloader = torch.utils.data.DataLoader(trainloader_instance,\n",
    "                                                   batch_size = batch_size,\n",
    "                                                   shuffle = None,\n",
    "                                                   num_workers = num_worker,\n",
    "                                                   drop_last = True,\n",
    "                                                   pin_memory = True)"
   ]
  },
  {
   "cell_type": "markdown",
   "id": "60d59914-05d6-41ae-b2cd-53e78fc4a746",
   "metadata": {},
   "source": [
    "- evaluation"
   ]
  },
  {
   "cell_type": "code",
   "execution_count": 8,
   "id": "b2732aa2-7cfe-4ec3-b0d5-fc8209de19ef",
   "metadata": {},
   "outputs": [],
   "source": [
    "model_list = glob.glob('./model_result/CycleGAN/*.pth')\n",
    "input_shape = (None, 1, int(args.target_sampling_rate * args.sig_time_len))\n",
    "n_residual_blocks=args.n_residual_blocks\n",
    "\n",
    "model_perf_list = []"
   ]
  },
  {
   "cell_type": "code",
   "execution_count": 11,
   "id": "3cebccbf-156d-4159-a6cd-59e42b2eda19",
   "metadata": {},
   "outputs": [
    {
     "name": "stderr",
     "output_type": "stream",
     "text": [
      "100%|██████████████████████████████████████████████████████████████████████████████████| 38/38 [01:02<00:00,  1.64s/it]\n",
      "100%|██████████████████████████████████████████████████████████████████████████████████| 38/38 [00:57<00:00,  1.50s/it]\n",
      "100%|██████████████████████████████████████████████████████████████████████████████████| 38/38 [00:56<00:00,  1.48s/it]\n",
      "100%|██████████████████████████████████████████████████████████████████████████████████| 38/38 [00:56<00:00,  1.49s/it]\n",
      "100%|██████████████████████████████████████████████████████████████████████████████████| 38/38 [00:57<00:00,  1.51s/it]\n",
      "100%|██████████████████████████████████████████████████████████████████████████████████| 38/38 [00:58<00:00,  1.53s/it]\n",
      "100%|██████████████████████████████████████████████████████████████████████████████████| 38/38 [00:57<00:00,  1.51s/it]\n",
      "100%|██████████████████████████████████████████████████████████████████████████████████| 38/38 [00:57<00:00,  1.50s/it]\n",
      "100%|██████████████████████████████████████████████████████████████████████████████████| 38/38 [00:56<00:00,  1.48s/it]\n",
      "100%|██████████████████████████████████████████████████████████████████████████████████| 38/38 [00:56<00:00,  1.48s/it]\n",
      "100%|██████████████████████████████████████████████████████████████████████████████████| 38/38 [00:56<00:00,  1.49s/it]\n",
      "100%|██████████████████████████████████████████████████████████████████████████████████| 38/38 [00:57<00:00,  1.50s/it]\n",
      "100%|██████████████████████████████████████████████████████████████████████████████████| 38/38 [00:56<00:00,  1.50s/it]\n",
      "100%|██████████████████████████████████████████████████████████████████████████████████| 38/38 [00:57<00:00,  1.50s/it]\n",
      "100%|██████████████████████████████████████████████████████████████████████████████████| 38/38 [00:57<00:00,  1.51s/it]\n"
     ]
    }
   ],
   "source": [
    "for model_path in model_list:\n",
    "    G_AB = load_model(model_path, input_shape, n_residual_blocks, DEVICE)\n",
    "    \n",
    "    # metric list\n",
    "    MAE_temp= []\n",
    "    NMAE_temp = []\n",
    "    RMSE_temp = []\n",
    "    NRMSE_temp = []\n",
    "    PRD_temp = []\n",
    "    DTW_temp = []\n",
    "    \n",
    "    for input_data in tqdm(train_dataloader, total=len(valset)//batch_size):\n",
    "        # prepare data\n",
    "        input_ppg, ref_ecg = input_data['ppg'], input_data['ecg']\n",
    "        \n",
    "        # inference\n",
    "        syn_ecg = G_AB(input_ppg.to(DEVICE))\n",
    "        syn_ecg = syn_ecg.data.cpu().numpy()[:,0,:]\n",
    "        ref_ecg = ref_ecg.data.cpu().numpy()[:,0,:]\n",
    "        \n",
    "        # performance\n",
    "        for ref, syn in zip(ref_ecg, syn_ecg):\n",
    "            MAE_temp.append(MAE(ref, syn))\n",
    "            NMAE_temp.append(NMAE(ref, syn))\n",
    "            RMSE_temp.append(RMSE(ref, syn))\n",
    "            NRMSE_temp.append(NRMSE(ref, syn))\n",
    "            PRD_temp.append(PRD(ref, syn))\n",
    "            DTW_temp.append(DTW(ref, syn))\n",
    "        \n",
    "    model_perf_dict = {}\n",
    "    model_perf_dict['model_name'] = model_path\n",
    "    model_perf_dict['MAE'] = np.array(MAE_temp).mean()\n",
    "    model_perf_dict['NAME'] = np.array(NMAE_temp).mean()\n",
    "    model_perf_dict['RMSE'] = np.array(RMSE_temp).mean()\n",
    "    model_perf_dict['NRMSE'] = np.array(NRMSE_temp).mean()\n",
    "    model_perf_dict['PRD'] = np.array(PRD_temp).mean()\n",
    "    model_perf_dict['DTW'] = np.array(DTW_temp).mean()\n",
    "    \n",
    "    model_perf_list.append(model_perf_dict)"
   ]
  },
  {
   "cell_type": "markdown",
   "id": "6cf63f85-0c7b-45e6-8ce8-2d69d38c5f51",
   "metadata": {},
   "source": [
    "- dtw 기준으로 performance 정렬"
   ]
  },
  {
   "cell_type": "code",
   "execution_count": 12,
   "id": "e85596dd-66be-4b97-a88a-7487a546154a",
   "metadata": {},
   "outputs": [],
   "source": [
    "dtw_list = []\n",
    "\n",
    "for i, perf in enumerate(model_perf_list):\n",
    "    dtw_list.append(perf['DTW'])\n",
    "    \n",
    "sort_idx = np.argsort(dtw_list)"
   ]
  },
  {
   "cell_type": "code",
   "execution_count": 26,
   "id": "6b48a92a-a3bb-483c-9f24-ae7b83a6ecb3",
   "metadata": {},
   "outputs": [],
   "source": [
    "top_5_model_perf = [model_perf_list[sort_idx[i]] for i in range(5)]"
   ]
  },
  {
   "cell_type": "code",
   "execution_count": 27,
   "id": "9d5d5c1a-2d2b-48c4-b79a-008cdb8ec01f",
   "metadata": {
    "scrolled": true
   },
   "outputs": [
    {
     "data": {
      "text/plain": [
       "[{'model_name': './model_result/CycleGAN\\\\PPG2ECG_CycleGAN_3Epochs.pth',\n",
       "  'MAE': 0.19828902,\n",
       "  'NAME': 0.643274364180949,\n",
       "  'RMSE': 0.32285342,\n",
       "  'NRMSE': 0.16142671444283388,\n",
       "  'PRD': 9.806734820984314,\n",
       "  'DTW': 47.1278363565298},\n",
       " {'model_name': './model_result/CycleGAN\\\\PPG2ECG_CycleGAN_1Epochs.pth',\n",
       "  'MAE': 0.21024105,\n",
       "  'NAME': 0.5887596906764797,\n",
       "  'RMSE': 0.3214796,\n",
       "  'NRMSE': 0.16073979359884974,\n",
       "  'PRD': 9.833386328101025,\n",
       "  'DTW': 50.14073166563581},\n",
       " {'model_name': './model_result/CycleGAN\\\\PPG2ECG_CycleGAN_4Epochs.pth',\n",
       "  'MAE': 0.2441236,\n",
       "  'NAME': 0.5962719871713457,\n",
       "  'RMSE': 0.35292417,\n",
       "  'NRMSE': 0.17646208662245613,\n",
       "  'PRD': 10.86567972818998,\n",
       "  'DTW': 58.72793744724941},\n",
       " {'model_name': './model_result/CycleGAN\\\\PPG2ECG_CycleGAN_10Epochs.pth',\n",
       "  'MAE': 0.24439129,\n",
       "  'NAME': 0.580678726286529,\n",
       "  'RMSE': 0.32982665,\n",
       "  'NRMSE': 0.16491332637399925,\n",
       "  'PRD': 10.194100932128572,\n",
       "  'DTW': 61.91622464640105},\n",
       " {'model_name': './model_result/CycleGAN\\\\PPG2ECG_CycleGAN_7Epochs.pth',\n",
       "  'MAE': 0.22984473,\n",
       "  'NAME': 0.6188036452172803,\n",
       "  'RMSE': 0.32226896,\n",
       "  'NRMSE': 0.16113448689033102,\n",
       "  'PRD': 9.90496686906223,\n",
       "  'DTW': 65.66680789253671}]"
      ]
     },
     "execution_count": 27,
     "metadata": {},
     "output_type": "execute_result"
    }
   ],
   "source": [
    "top_5_model_perf"
   ]
  }
 ],
 "metadata": {
  "kernelspec": {
   "display_name": "Python 3 (ipykernel)",
   "language": "python",
   "name": "python3"
  },
  "language_info": {
   "codemirror_mode": {
    "name": "ipython",
    "version": 3
   },
   "file_extension": ".py",
   "mimetype": "text/x-python",
   "name": "python",
   "nbconvert_exporter": "python",
   "pygments_lexer": "ipython3",
   "version": "3.8.18"
  }
 },
 "nbformat": 4,
 "nbformat_minor": 5
}
